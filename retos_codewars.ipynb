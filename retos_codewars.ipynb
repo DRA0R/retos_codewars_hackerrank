{
  "nbformat": 4,
  "nbformat_minor": 0,
  "metadata": {
    "colab": {
      "name": "retos_codewars.ipynb",
      "provenance": [],
      "collapsed_sections": [],
      "authorship_tag": "ABX9TyNPRCsNgRorjM3R5e8L9AST",
      "include_colab_link": true
    },
    "kernelspec": {
      "name": "python3",
      "display_name": "Python 3"
    },
    "language_info": {
      "name": "python"
    }
  },
  "cells": [
    {
      "cell_type": "markdown",
      "metadata": {
        "id": "view-in-github",
        "colab_type": "text"
      },
      "source": [
        "<a href=\"https://colab.research.google.com/github/DRA0R/retos_codewars_hackerrank/blob/main/retos_codewars.ipynb\" target=\"_parent\"><img src=\"https://colab.research.google.com/assets/colab-badge.svg\" alt=\"Open In Colab\"/></a>"
      ]
    },
    {
      "cell_type": "code",
      "source": [
        "def spin_words(sentence):\n",
        "    new_sentence = []\n",
        "    split_sentence = sentence.split(' ')\n",
        "    \n",
        "    for x in split_sentence:\n",
        "        if len(x) > 4:\n",
        "          x=''.join(reversed(x))\n",
        "        new_sentence.append(x)\n",
        "\n",
        "    sentence_final =' '.join([str(i) for i in new_sentence])\n",
        "    return sentence_final"
      ],
      "metadata": {
        "id": "HMs5a9dzwGqU"
      },
      "execution_count": null,
      "outputs": []
    },
    {
      "cell_type": "code",
      "source": [
        "def filter_list(l):\n",
        "    'return a new list with the strings filtered out'\n",
        "    return [x for x in l if type(x) == int]"
      ],
      "metadata": {
        "id": "m0oQOoWzwQOW"
      },
      "execution_count": null,
      "outputs": []
    },
    {
      "cell_type": "code",
      "source": [
        "def add_binary(a,b):\n",
        "    #your code here\n",
        "    c = a+b\n",
        "    binary = []\n",
        "    while c != 0:\n",
        "        binary.append(c%2)\n",
        "        c //= 2\n",
        "\n",
        "    binary = binary[::-1]  \n",
        "    new_binary=\"\".join([str(i) for i in binary])\n",
        "\n",
        "    return new_binary"
      ],
      "metadata": {
        "id": "NbiWLS2I5pY2"
      },
      "execution_count": null,
      "outputs": []
    },
    {
      "cell_type": "code",
      "source": [
        "def solution(number):\n",
        "    list_numbers = [x for x in range(number)]\n",
        "    multiples_numbers = [x for x in list_numbers if x%3 == 0 or x%5 == 0]\n",
        "    x = sum(multiples_numbers)\n",
        "    return x"
      ],
      "metadata": {
        "id": "Td49FUjd-EHP"
      },
      "execution_count": null,
      "outputs": []
    },
    {
      "cell_type": "code",
      "source": [
        "def duplicate_encode(word):\n",
        "    #your code here\n",
        "    di = []\n",
        "    result= []\n",
        "    word= word.lower()\n",
        "    for x in word:\n",
        "        di.append(word.count(x))\n",
        "    for x in di:\n",
        "        if x > 1:\n",
        "            x = \")\"\n",
        "            result.append(x)\n",
        "        else:\n",
        "            x = \"(\"\n",
        "            result.append(x)\n",
        "    return ''.join([str(i) for i in result])"
      ],
      "metadata": {
        "id": "GLP7FhyxEzjk"
      },
      "execution_count": null,
      "outputs": []
    },
    {
      "cell_type": "code",
      "source": [
        "def solution(s):\n",
        "    if len(s)%2 != 0:\n",
        "        s = s + '_'\n",
        "    lis=[]\n",
        "    for x in range(0,len(s),2):\n",
        "        lis.append(s[x:x+2])\n",
        "    return lis"
      ],
      "metadata": {
        "id": "GsuwjqS_3EBt"
      },
      "execution_count": null,
      "outputs": []
    },
    {
      "cell_type": "code",
      "source": [
        "def anagrams(word, words):\n",
        "    #your code here\n",
        "    result= []\n",
        "    di = {}\n",
        "    di_s = []\n",
        "    for i in word:\n",
        "        di[i] = word.count(i)\n",
        "\n",
        "    for word_in_list in words:\n",
        "        inter = {}\n",
        "        for i in word_in_list:\n",
        "            inter[i] = word_in_list.count(i)\n",
        "\n",
        "        di_s.append(inter)\n",
        "    for x,c in zip(di_s,range(len(di_s))):\n",
        "        if x == di:\n",
        "          result.append(words[c])\n",
        "    return result"
      ],
      "metadata": {
        "id": "ZOSmFpjn41XG"
      },
      "execution_count": null,
      "outputs": []
    },
    {
      "cell_type": "code",
      "source": [
        "def create_phone_number(n):\n",
        "    #your code here\n",
        "    first = n[0:3]\n",
        "    second = n[3:6]\n",
        "    third = n[6::]\n",
        "    space = [\" \"]\n",
        "    line = [\"-\"]\n",
        "    m = [\"(\"]\n",
        "    a=[\")\"]\n",
        "    \n",
        "    total = m + first + a + space + second + line + third\n",
        "             \n",
        "    return ''.join([str(i) for i in total])"
      ],
      "metadata": {
        "id": "F8Tnlq7z5d0L"
      },
      "execution_count": null,
      "outputs": []
    },
    {
      "cell_type": "code",
      "source": [
        "def create_phone_number(n):\n",
        "    return \"({}{}{}) {}{}{}-{}{}{}{}\".format(*n)"
      ],
      "metadata": {
        "id": "1qCMPOEqXrw5"
      },
      "execution_count": null,
      "outputs": []
    },
    {
      "cell_type": "code",
      "source": [
        "def likes(names):\n",
        "    # your code here\n",
        "    if len(names) == 0:\n",
        "        result = 'no one likes this'        \n",
        "    elif len(names) == 1 :\n",
        "        result = \"{} likes this\".format(names[0])\n",
        "    elif len(names) == 2:\n",
        "        result =\"{} and {} like this\".format(names[0],names[1])\n",
        "    elif len(names) == 3:\n",
        "        result =\"{}, {} and {} like this\".format(names[0],names[1],names[2])\n",
        "    else:\n",
        "        result =\"{}, {} and {} others like this\".format(names[0],names[1],len(names)-2)\n",
        "    return result"
      ],
      "metadata": {
        "id": "BwR3qLqn91r5"
      },
      "execution_count": null,
      "outputs": []
    },
    {
      "cell_type": "code",
      "source": [
        "text = 'hello'"
      ],
      "metadata": {
        "id": "pItuQWIsZv4P"
      },
      "execution_count": null,
      "outputs": []
    },
    {
      "cell_type": "code",
      "source": [
        "def encode(st):\n",
        "  new_st = ''\n",
        "  for x,c in zip(st,range(len(st))):\n",
        "    if x == 'a':\n",
        "      new_letter = '1'\n",
        "    elif x == 'e':\n",
        "       new_letter = '2'\n",
        "    elif x == 'i':\n",
        "      new_letter = '3'\n",
        "    elif x == 'o':\n",
        "      new_letter = '4'\n",
        "    elif x == 'u':\n",
        "      new_letter = '5'\n",
        "    else:\n",
        "      new_letter = x\n",
        "\n",
        "    new_st += new_letter\n",
        "  return new_st\n",
        "        #st[c] = new_letter"
      ],
      "metadata": {
        "id": "2XT94B_Kj61W"
      },
      "execution_count": null,
      "outputs": []
    },
    {
      "cell_type": "code",
      "source": [
        ""
      ],
      "metadata": {
        "id": "yfmlX9N9j_lm"
      },
      "execution_count": null,
      "outputs": []
    },
    {
      "cell_type": "code",
      "source": [
        "def decode(st):\n",
        "  new_st_deco = ''\n",
        "  for x,c in zip(st,range(len(st))):\n",
        "    if x == '1':\n",
        "      new_letter = 'a'\n",
        "    elif x == '2':\n",
        "       new_letter = 'e'\n",
        "    elif x == '3':\n",
        "      new_letter = 'i'\n",
        "    elif x == '4':\n",
        "      new_letter = 'o'\n",
        "    elif x == '5':\n",
        "      new_letter = 'u'\n",
        "    else:\n",
        "      new_letter = x\n",
        "\n",
        "    new_st_deco += new_letter\n",
        "  return new_st_deco"
      ],
      "metadata": {
        "id": "7CZrdwdUlBsh"
      },
      "execution_count": null,
      "outputs": []
    },
    {
      "cell_type": "code",
      "source": [
        "def kebabize(string):\n",
        "    #your code here\n",
        "    new = [x for x in string if x.isnumeric() ==False]\n",
        "    result = []\n",
        "    for x,c in zip(new,range(len(new))):\n",
        "        if x.islower() == True:\n",
        "            result.append(x)\n",
        "\n",
        "        elif x.isupper() == True:\n",
        "            if c == 0:\n",
        "                result.append(x.lower())\n",
        "            else:\n",
        "                result.append('-')\n",
        "                result.append(x.lower())\n",
        "    return \"\".join([x for x in result])"
      ],
      "metadata": {
        "id": "JDoDCjbbNzrH"
      },
      "execution_count": null,
      "outputs": []
    },
    {
      "cell_type": "code",
      "source": [
        "def find_missing_letter(chars):\n",
        "    import string\n",
        "    new_chars = \"\".join(chars)\n",
        "\n",
        "    if new_chars.isupper() == False:\n",
        "        abecedario = string.ascii_lowercase\n",
        "    elif new_chars.isupper() == True:\n",
        "         abecedario = string.ascii_uppercase\n",
        "\n",
        "    inicio = abecedario.find(new_chars[0])\n",
        "    final = len(new_chars) + inicio\n",
        "    new_abecedario = abecedario[inicio:final]\n",
        "\n",
        "    for x in range(len(new_abecedario)):\n",
        "         if new_abecedario[x] != new_chars[x]:\n",
        "                esta = new_abecedario[x]\n",
        "                break\n",
        "        \n",
        "    return esta"
      ],
      "metadata": {
        "colab": {
          "base_uri": "https://localhost:8080/",
          "height": 35
        },
        "id": "9ur-K5KN2pQ9",
        "outputId": "afe5408b-66f4-44b4-bc96-12a4bb105f1e"
      },
      "execution_count": null,
      "outputs": [
        {
          "output_type": "execute_result",
          "data": {
            "text/plain": [
              "'11'"
            ],
            "application/vnd.google.colaboratory.intrinsic+json": {
              "type": "string"
            }
          },
          "metadata": {},
          "execution_count": 45
        }
      ]
    },
    {
      "cell_type": "code",
      "source": [
        "def descending_order(num):\n",
        "    # Bust a move right here\n",
        "    int_to_list = [int(x) for x in str(num)]\n",
        "    int_to_list.sort(reverse= True)\n",
        "    return int(\"\".join(str(i) for i in int_to_list))"
      ],
      "metadata": {
        "id": "xR4DoKCp6gPX"
      },
      "execution_count": null,
      "outputs": []
    },
    {
      "cell_type": "code",
      "source": [
        "def remove_char(s):\n",
        "    #your code here\n",
        "    \n",
        "    return s[1:-1]"
      ],
      "metadata": {
        "id": "_yqoRtHMJX1j"
      },
      "execution_count": null,
      "outputs": []
    },
    {
      "cell_type": "code",
      "source": [
        "def binary_array_to_number(arr):\n",
        "    # your code\n",
        "    return int(\"\".join(str(i) for i in arr), 2)"
      ],
      "metadata": {
        "id": "WRyGBDCpJab1"
      },
      "execution_count": null,
      "outputs": []
    },
    {
      "cell_type": "code",
      "source": [
        "def square_digits(num):\n",
        "    to_convert = [str(int(x)**2) for x in str(num)]\n",
        "    return int(\"\".join(to_convert))"
      ],
      "metadata": {
        "id": "j8ZuDKILUyPn"
      },
      "execution_count": null,
      "outputs": []
    },
    {
      "cell_type": "code",
      "source": [
        "def open_or_senior(data):\n",
        "    lista = []\n",
        "    for x in data:\n",
        "        if x[1] > 7 and x[0] >= 55:\n",
        "            new = \"Senior\"\n",
        "        else:\n",
        "            new = \"Open\"\n",
        "            \n",
        "        lista.append(new)\n",
        "    return lista"
      ],
      "metadata": {
        "id": "7qYhZdXFKDob"
      },
      "execution_count": null,
      "outputs": []
    },
    {
      "cell_type": "code",
      "source": [
        "def greet(name):\n",
        "    #Good Luck (like you need it)\n",
        "    return \"Hello, {} how are you doing today?\".format(name)"
      ],
      "metadata": {
        "id": "4cPSE0O9Ni7b"
      },
      "execution_count": null,
      "outputs": []
    },
    {
      "cell_type": "code",
      "source": [
        "def opposite(number):\n",
        "    # your solution here\n",
        "    return -number"
      ],
      "metadata": {
        "id": "euGEN3Y3NpE1"
      },
      "execution_count": null,
      "outputs": []
    },
    {
      "cell_type": "code",
      "source": [
        "def to_jaden_case(string):\n",
        "    # ...\n",
        "    return \" \".join(x.capitalize() for x in string.split(\" \"))"
      ],
      "metadata": {
        "id": "h1QzcTz8OWrb"
      },
      "execution_count": null,
      "outputs": []
    },
    {
      "cell_type": "code",
      "source": [
        "def string_to_number(s):\n",
        "    return int(s)"
      ],
      "metadata": {
        "id": "Zc1UvQKUQX_Y"
      },
      "execution_count": null,
      "outputs": []
    },
    {
      "cell_type": "code",
      "source": [
        "def string_to_number(s):\n",
        "    # ... your code here\n",
        "    return int(s)\n",
        "    "
      ],
      "metadata": {
        "id": "-wjnrPNJSuSX"
      },
      "execution_count": null,
      "outputs": []
    },
    {
      "cell_type": "code",
      "source": [
        "def digitize(n):\n",
        "    return [int(x) for x in str(n)][::-1]"
      ],
      "metadata": {
        "id": "uG2l-OvSRVfr"
      },
      "execution_count": null,
      "outputs": []
    },
    {
      "cell_type": "code",
      "source": [
        "def friend(x):\n",
        "    #Code\n",
        "    return [i for i in x if len(i) == 4]"
      ],
      "metadata": {
        "id": "yiA8t_N4Ru8t"
      },
      "execution_count": null,
      "outputs": []
    },
    {
      "cell_type": "code",
      "source": [
        "def get_sum(a,b):\n",
        "    #good luck!\n",
        "    if b > a:\n",
        "        c = b + 1\n",
        "        x = a\n",
        "    else:\n",
        "        c = a + 1\n",
        "        x = b\n",
        "    return a if a==b else sum(range(x,c))"
      ],
      "metadata": {
        "id": "ytLC0biNTepV"
      },
      "execution_count": null,
      "outputs": []
    },
    {
      "cell_type": "code",
      "source": [
        "def bool_to_word(bool):\n",
        "    return \"Yes\" if bool else \"No\""
      ],
      "metadata": {
        "id": "lOqBxnUUVsrT"
      },
      "execution_count": null,
      "outputs": []
    },
    {
      "cell_type": "code",
      "source": [
        "def get_count(sentence):\n",
        "    vowels = 'aeiou'\n",
        "    return len([x for x in sentence if x in vowels])"
      ],
      "metadata": {
        "id": "ip6mdtteZStR"
      },
      "execution_count": null,
      "outputs": []
    },
    {
      "cell_type": "code",
      "source": [
        "def find_smallest_int(arr):\n",
        "    # Code here\n",
        "    return min(arr)"
      ],
      "metadata": {
        "id": "ZApsCKLCaV3J"
      },
      "execution_count": null,
      "outputs": []
    },
    {
      "cell_type": "code",
      "source": [
        "def longest(a1, a2):\n",
        "    # your code\n",
        "    different = list(set(a1 + a2))\n",
        "    different.sort(reverse=False)\n",
        "    return \"\".join(different)"
      ],
      "metadata": {
        "id": "HDL3goKjkFtV"
      },
      "execution_count": null,
      "outputs": []
    },
    {
      "cell_type": "code",
      "source": [
        "def find_needle(haystack):\n",
        "    # your code here\n",
        "    return \"found the needle at position {}\".format(sum([x for x,c in enumerate(haystack) if c == 'needle']))"
      ],
      "metadata": {
        "id": "0NwsUx7JlDwo"
      },
      "execution_count": null,
      "outputs": []
    },
    {
      "cell_type": "code",
      "source": [
        "x = [1,2,32,44,5,123,4213,12,1]\n",
        "x.index(1)"
      ],
      "metadata": {
        "colab": {
          "base_uri": "https://localhost:8080/"
        },
        "id": "OuSzii7Blhas",
        "outputId": "2f9cfc3d-af61-424a-f68e-5abedc66ca0a"
      },
      "execution_count": null,
      "outputs": [
        {
          "output_type": "execute_result",
          "data": {
            "text/plain": [
              "0"
            ]
          },
          "metadata": {},
          "execution_count": 102
        }
      ]
    },
    {
      "cell_type": "code",
      "source": [
        "def basic_op(operator, value1, value2):\n",
        "    #your code here\n",
        "  op = {'+': lambda x, y: x + y,\n",
        "        '-': lambda x, y: x - y,\n",
        "        '*': lambda x, y: x * y,\n",
        "        '/': lambda x, y: x / y\n",
        "        }\n",
        "    \n",
        "  return op[operator](value1,value2)"
      ],
      "metadata": {
        "id": "HFjEk1oPpXfc"
      },
      "execution_count": null,
      "outputs": []
    },
    {
      "cell_type": "code",
      "source": [
        "def repeat_str(repeat, string):\n",
        "    return string*repeat"
      ],
      "metadata": {
        "id": "tBA-ponvqs1Y"
      },
      "execution_count": null,
      "outputs": []
    },
    {
      "cell_type": "code",
      "source": [
        "def invert(lst):\n",
        "    return [-x for x in lst]"
      ],
      "metadata": {
        "id": "bsjEgZ5CtDWw"
      },
      "execution_count": null,
      "outputs": []
    },
    {
      "cell_type": "code",
      "source": [
        "def duplicate_count(text):\n",
        "    # Your code goes here\n",
        "    repetidos=[]\n",
        "    c=0\n",
        "    for x in text.lower():\n",
        "        if x not in repetidos:\n",
        "            repetidos.append(x)\n",
        "        else:\n",
        "            repetidos.append(x)\n",
        "            \n",
        "            if repetidos.count(x) > 1 and repetidos.count(x) <= 2:\n",
        "                c+=1\n",
        "            \n",
        "    return c"
      ],
      "metadata": {
        "id": "3gHHYpLNtWwh"
      },
      "execution_count": null,
      "outputs": []
    },
    {
      "cell_type": "code",
      "source": [
        "def delete_nth(order,max_e):\n",
        "    # code here\n",
        "    result = []\n",
        "    for x in order:\n",
        "        if result.count(x) < max_e:\n",
        "            result.append(x)\n",
        "    return result"
      ],
      "metadata": {
        "id": "KGL5mPcS0Nys"
      },
      "execution_count": null,
      "outputs": []
    },
    {
      "cell_type": "code",
      "source": [
        "def check(seq, elem):\n",
        "    return elem in seq"
      ],
      "metadata": {
        "id": "yARVPyDg99om"
      },
      "execution_count": null,
      "outputs": []
    },
    {
      "cell_type": "code",
      "source": [
        "def find_short(s):\n",
        "    # your code here\n",
        "    return min([len(x) for x in s.split(\" \")])"
      ],
      "metadata": {
        "id": "l78mmgtoaEK1"
      },
      "execution_count": null,
      "outputs": []
    },
    {
      "cell_type": "code",
      "source": [
        "def sum_array(arr):\n",
        "    #your code here\n",
        "    if arr == None:\n",
        "        result = 0\n",
        "    elif len(arr) < 2:\n",
        "        result = 0        \n",
        "    else:\n",
        "        result = sum(arr) - min(arr) - max(arr)\n",
        "        \n",
        "    return result"
      ],
      "metadata": {
        "id": "oaBGKQ8odFpC"
      },
      "execution_count": null,
      "outputs": []
    },
    {
      "cell_type": "code",
      "source": [
        "def count_positives_sum_negatives(arr):\n",
        "    c=0\n",
        "    suma=0\n",
        "    for x in arr:\n",
        "        if x > 0:\n",
        "            c+=1\n",
        "        elif x <= 0:\n",
        "            suma += x                  \n",
        "    return [c,suma] if len(arr) != 0 else []"
      ],
      "metadata": {
        "id": "mliLx9Jjjdye"
      },
      "execution_count": null,
      "outputs": []
    },
    {
      "cell_type": "code",
      "source": [
        "def find_uniq(arr):\n",
        "    # your code here\n",
        "    return [x for x in arr if arr.count(x) == 1][0]"
      ],
      "metadata": {
        "colab": {
          "base_uri": "https://localhost:8080/"
        },
        "id": "ZK3Smiabje3A",
        "outputId": "45b83b24-4339-479d-a702-c877a1a81363"
      },
      "execution_count": null,
      "outputs": [
        {
          "output_type": "execute_result",
          "data": {
            "text/plain": [
              "-65"
            ]
          },
          "metadata": {},
          "execution_count": 34
        }
      ]
    },
    {
      "cell_type": "code",
      "source": [
        "def find_uniq(arr):\n",
        "    # your code here\n",
        "    #return [x for x in arr if arr.count(x) == 1][0]  #Take too much time\n",
        "    aca = []\n",
        "    n= []\n",
        "    for x in arr:\n",
        "        if x not in aca:\n",
        "            c = arr.count(x)\n",
        "            aca.append(x)\n",
        "            n.append([x,c])\n",
        "    for x,c in n:\n",
        "        if c == 1:\n",
        "            solution = x\n",
        "    return solution"
      ],
      "metadata": {
        "id": "g-bts03tl355"
      },
      "execution_count": null,
      "outputs": []
    },
    {
      "cell_type": "code",
      "source": [
        "def odd_or_even(arr):\n",
        "    return \"even\" if sum(arr) % 2 == 0 else \"odd\""
      ],
      "metadata": {
        "id": "1U7kb_Eml45P"
      },
      "execution_count": null,
      "outputs": []
    },
    {
      "cell_type": "code",
      "source": [
        "def hero(bullets, dragons):\n",
        "    try:\n",
        "        solution = bullets / dragons >= 2\n",
        "    except ZeroDivisionError:\n",
        "        return True\n",
        "    return solution"
      ],
      "metadata": {
        "id": "8L0QGAEJqlTZ"
      },
      "execution_count": null,
      "outputs": []
    },
    {
      "cell_type": "code",
      "source": [
        "def bouncing_ball(h, bounce, window):\n",
        "    # your code\n",
        "    c= 0\n",
        "\n",
        "    if h > 0 and bounce > 0 and bounce < 1 and window < h:\n",
        "        #valor = h / bounce\n",
        "        while h > window:\n",
        "            c+=2\n",
        "            h *= bounce\n",
        "            \n",
        "    else:\n",
        "        return -1\n",
        "    return c-1"
      ],
      "metadata": {
        "id": "gLzfUcnIG-7t"
      },
      "execution_count": null,
      "outputs": []
    },
    {
      "cell_type": "code",
      "source": [
        "def xo(s):\n",
        "    return s.lower().count('x') == s.lower().count('o')"
      ],
      "metadata": {
        "id": "dJN8g2GYHUXn"
      },
      "execution_count": null,
      "outputs": []
    },
    {
      "cell_type": "code",
      "source": [
        "def number(bus_stops):\n",
        "    # Good Luck!\n",
        "    suben=0\n",
        "    bajan=0\n",
        "    result = [x for i in bus_stops for x in i]\n",
        "    for x,i in enumerate(result):\n",
        "        if x%2== 0:\n",
        "            suben +=i\n",
        "        else:\n",
        "            bajan +=i\n",
        "    return suben-bajan"
      ],
      "metadata": {
        "id": "2lsJGuPaIT8f"
      },
      "execution_count": null,
      "outputs": []
    },
    {
      "cell_type": "code",
      "source": [
        "def litres(time):\n",
        "    return time//2"
      ],
      "metadata": {
        "id": "7Q_xuCtdKsWo"
      },
      "execution_count": null,
      "outputs": []
    },
    {
      "cell_type": "code",
      "source": [
        "def square_sum(numbers):\n",
        "    #your code here\n",
        "    return sum(x**2 for x in numbers)"
      ],
      "metadata": {
        "id": "VPtspiVBKuu5"
      },
      "execution_count": null,
      "outputs": []
    },
    {
      "cell_type": "code",
      "source": [
        "def sum_two_smallest_numbers(numbers):\n",
        "    #your code here\n",
        "    return sum(sorted([x for x in numbers if x>0])[0:2])"
      ],
      "metadata": {
        "id": "ULKBoef2XRVC"
      },
      "execution_count": null,
      "outputs": []
    },
    {
      "cell_type": "code",
      "source": [
        "def printer_error(s):\n",
        "    # your code\n",
        "    bad =\"nopqrstuvwxyz\"\n",
        "    no = sum([1 for x in s.lower() if x in bad])\n",
        "    return \"{}/{}\".format(no,len(s))"
      ],
      "metadata": {
        "id": "rEucbcJIYLNk"
      },
      "execution_count": null,
      "outputs": []
    },
    {
      "cell_type": "code",
      "source": [
        "def zero_fuel(distance_to_pump, mpg, fuel_left):\n",
        "    #Happy Coding! ;)\n",
        "    return distance_to_pump <= mpg*fuel_left"
      ],
      "metadata": {
        "id": "pudmQsAKYM-d"
      },
      "execution_count": null,
      "outputs": []
    },
    {
      "cell_type": "code",
      "source": [
        "def validate_pin(pin):\n",
        "    #return true or false\n",
        "    return (len(pin) == 4 or len(pin) == 6) and pin.isdigit()"
      ],
      "metadata": {
        "id": "-cLRVwF8e73E"
      },
      "execution_count": null,
      "outputs": []
    },
    {
      "cell_type": "code",
      "source": [
        "def find_next_square(sq):\n",
        "    # Return the next square if sq is a square, -1 otherwise\n",
        "    import math\n",
        "    return (((sq)**(1/2)) + 1)**2 if math.sqrt(sq).is_integer() else -1"
      ],
      "metadata": {
        "id": "2V-YJL5rhseJ"
      },
      "execution_count": null,
      "outputs": []
    },
    {
      "cell_type": "code",
      "source": [
        "def get_middle(s):\n",
        "    #your code here\n",
        "    mid = int(len(s)/2)\n",
        "    if len(s)%2 == 0:\n",
        "        result = s[mid-1]+ s[mid]\n",
        "    else:\n",
        "        result = s[mid]\n",
        "    return result"
      ],
      "metadata": {
        "id": "G3sxUuX0h5l2"
      },
      "execution_count": null,
      "outputs": []
    },
    {
      "cell_type": "code",
      "source": [
        "def alphabet_position(text):\n",
        "    abecedario = [x for x in \"abcdefghijklmnopqrstuvwxyz\"]\n",
        "    numeros = [x for x in range(1,len(abecedario))]\n",
        "    dictionary = {}\n",
        "    for x in range(1,27):\n",
        "        dictionary[abecedario[x-1]] = x\n",
        "    \n",
        "    tokenks = [x for x in text.lower() if x in abecedario]\n",
        "        \n",
        "    return \" \".join([str(dictionary[x]) for x in tokenks])"
      ],
      "metadata": {
        "id": "uWi-FhvGjZIP"
      },
      "execution_count": null,
      "outputs": []
    },
    {
      "cell_type": "code",
      "source": [
        "def accum(s):\n",
        "    # your code\n",
        "    return \"-\".join(x.capitalize() for x in [x*(i+1) for i,x in enumerate(s)])"
      ],
      "metadata": {
        "id": "PA7uLib-r30K"
      },
      "execution_count": null,
      "outputs": []
    },
    {
      "cell_type": "code",
      "source": [
        "def simple_multiplication(number) :\n",
        "    # Your code goes here\n",
        "    return number * 8 if number%2 == 0 else number*9"
      ],
      "metadata": {
        "id": "0I5v4QTq_UMC"
      },
      "execution_count": null,
      "outputs": []
    },
    {
      "cell_type": "code",
      "source": [
        "def rot13(message):\n",
        "    #alphab\n",
        "    abecedario = [x for x in \"abcdefghijklmnopqrstuvwxyzABCDEFGHIJKLMNOPQRSTUVWXYZ\"]\n",
        "    numeros = [x for x in range(1,len(abecedario))]\n",
        "    \n",
        "    #coding dict\n",
        "    abc1= {}\n",
        "    abc2 ={}\n",
        "    for x in range(1,53):\n",
        "        if x < 27:\n",
        "            abc1[abecedario[x-1]] = x\n",
        "        else:\n",
        "            abc2[abecedario[x-1]] = x\n",
        "    \n",
        "    #decoding dict     \n",
        "    cba={}    \n",
        "    for x,i in enumerate(abecedario):\n",
        "        cba[x+1] = i\n",
        "    \n",
        "    encoding = []\n",
        "\n",
        "    for i in [x for x in message]:\n",
        "        if i.isalpha():\n",
        "            if i.isupper():\n",
        "                encoding.append(abc2[i])\n",
        "            else:\n",
        "                encoding.append(abc1[i])\n",
        "        else:\n",
        "            encoding.append(i)\n",
        "    \n",
        "    new_value = []\n",
        "    for x in encoding:\n",
        "        if type(x) == int:\n",
        "            if x <= 26:\n",
        "                if x+13 > 26:\n",
        "                    new_value.append(x+13 - 26)\n",
        "                else:\n",
        "                    new_value.append(x+13)\n",
        "            elif x >= 27:\n",
        "                if x+13 > 52:\n",
        "                    new_value.append(x+13 - 26)\n",
        "                else:\n",
        "                    new_value.append(x+13)\n",
        "                    \n",
        "        elif x == \" \":\n",
        "            new_value.append(\" \")\n",
        "        else:\n",
        "            new_value.append(x)\n",
        "        \n",
        "    return \"\".join([str(cba[x]) if x in cba else x for x in new_value])"
      ],
      "metadata": {
        "id": "8TW81kHjLLCV"
      },
      "execution_count": null,
      "outputs": []
    },
    {
      "cell_type": "code",
      "source": [
        "def past(h, m, s):\n",
        "    # Good Luck!\n",
        "    return h*3600000 + m*60000 + s*1000"
      ],
      "metadata": {
        "id": "ObPAuuu7jXKv"
      },
      "execution_count": null,
      "outputs": []
    },
    {
      "cell_type": "code",
      "source": [
        "def string_to_array(s):\n",
        "    # your code here\n",
        "    return s.split() if len(s) > 1 else ['']"
      ],
      "metadata": {
        "id": "ag1GWz8tsrNa"
      },
      "execution_count": null,
      "outputs": []
    },
    {
      "cell_type": "code",
      "source": [
        "def maps(a):\n",
        "    return [x+x for x in a]"
      ],
      "metadata": {
        "id": "81THNwkYs8ja"
      },
      "execution_count": null,
      "outputs": []
    },
    {
      "cell_type": "code",
      "source": [
        "def double_integer(i):\n",
        "    # Double the integer and return it!\n",
        "    return 2*i"
      ],
      "metadata": {
        "id": "hRg7gHMRtTZL"
      },
      "execution_count": null,
      "outputs": []
    },
    {
      "cell_type": "code",
      "source": [
        "def bmi(weight, height):\n",
        "    #your code here\n",
        "    indice = weight/(height**2)\n",
        "    if indice <= 18.5:\n",
        "        p = \"Underweight\"\n",
        "    elif indice <= 25.0:\n",
        "        p = \"Normal\"\n",
        "    elif indice <= 30.0:\n",
        "        p= \"Overweight\"\n",
        "    elif indice > 30.0:\n",
        "        p =\"Obese\"\n",
        "    return p"
      ],
      "metadata": {
        "id": "DfXODBadtbZI"
      },
      "execution_count": null,
      "outputs": []
    },
    {
      "cell_type": "code",
      "source": [
        "def abbrev_name(name):\n",
        "    return \".\".join([x[0].upper() for x in name.split(\" \")])"
      ],
      "metadata": {
        "id": "5nDH9weZuTbP"
      },
      "execution_count": null,
      "outputs": []
    },
    {
      "cell_type": "code",
      "source": [
        "def is_divide_by(number, a, b):\n",
        "    return number % a == 0 and number % b ==0 # good luck"
      ],
      "metadata": {
        "id": "altAmREvytVp"
      },
      "execution_count": null,
      "outputs": []
    },
    {
      "cell_type": "code",
      "source": [
        "def reverse_words(text):\n",
        "  #go for it\n",
        "    return \" \".join(x[::-1] for x in text.split(\" \"))"
      ],
      "metadata": {
        "id": "05OM-taczzYX"
      },
      "execution_count": null,
      "outputs": []
    },
    {
      "cell_type": "code",
      "source": [
        "def smash(words):\n",
        "    return \" \".join(words)"
      ],
      "metadata": {
        "id": "snLoh_670O1U"
      },
      "execution_count": null,
      "outputs": []
    },
    {
      "cell_type": "code",
      "source": [
        "def sum_array(a):\n",
        "    return sum(a)"
      ],
      "metadata": {
        "id": "QiPv_w5m0Pws"
      },
      "execution_count": null,
      "outputs": []
    },
    {
      "cell_type": "code",
      "source": [
        "def better_than_average(class_points, your_points):\n",
        "    # Your code here\n",
        "    return sum(class_points)/len(class_points) < your_points"
      ],
      "metadata": {
        "id": "XW6P4rIR1IZE"
      },
      "execution_count": null,
      "outputs": []
    },
    {
      "cell_type": "code",
      "source": [
        "def greet(name, owner):\n",
        "    # Add code here\n",
        "    return \"Hello boss\" if name == owner else \"Hello guest\""
      ],
      "metadata": {
        "id": "_tGQKhW81hrv"
      },
      "execution_count": null,
      "outputs": []
    },
    {
      "cell_type": "code",
      "source": [
        "def solution(string):\n",
        "    return string[::-1]"
      ],
      "metadata": {
        "id": "ACGdCgCA10cR"
      },
      "execution_count": null,
      "outputs": []
    },
    {
      "cell_type": "code",
      "source": [
        "def disemvowel(string_):\n",
        "    result =\"\"\n",
        "    for x in string_:\n",
        "        if x not in \"aeiouAEIOU\":\n",
        "                result+= x\n",
        "                \n",
        "        elif x == \" \":\n",
        "            result+= \" \"\n",
        "                \n",
        "    return result"
      ],
      "metadata": {
        "colab": {
          "base_uri": "https://localhost:8080/"
        },
        "id": "kbf-usEE18dz",
        "outputId": "c7d31e8b-d672-4ee9-a4e2-bc48ba94859d"
      },
      "execution_count": null,
      "outputs": [
        {
          "output_type": "execute_result",
          "data": {
            "text/plain": [
              "True"
            ]
          },
          "metadata": {},
          "execution_count": 119
        }
      ]
    },
    {
      "cell_type": "code",
      "source": [
        "def sum_mix(arr):\n",
        "    #your code here\n",
        "    return sum([int(x) for x in arr])"
      ],
      "metadata": {
        "id": "3wJfzF7A3Vm6"
      },
      "execution_count": null,
      "outputs": []
    },
    {
      "cell_type": "code",
      "source": [
        "def count_sheep(n):\n",
        "    # your code\n",
        "    result = \"\"\n",
        "    for x in range(1,n+1):\n",
        "        result+= \"{} sheep...\".format(x)\n",
        "    return result"
      ],
      "metadata": {
        "id": "twzVJiHT3chc"
      },
      "execution_count": null,
      "outputs": []
    },
    {
      "cell_type": "code",
      "source": [
        "def order(sentence):\n",
        "    # code here\n",
        "    ordenado = {}\n",
        "    for x in sentence.split(\" \"):\n",
        "        for i in x:\n",
        "            if i.isdigit():\n",
        "                ordenado[i] = x\n",
        "                \n",
        "    melo = dict(sorted(ordenado.items()))\n",
        "    \n",
        "    return \" \".join(melo.values())"
      ],
      "metadata": {
        "id": "chaYrIQP4ql_"
      },
      "execution_count": null,
      "outputs": []
    },
    {
      "cell_type": "code",
      "source": [
        "1+3+5+7+9+11+13+15+17+19+21+23+25+27+29"
      ],
      "metadata": {
        "colab": {
          "base_uri": "https://localhost:8080/"
        },
        "id": "VPBYdChYJvFE",
        "outputId": "378a52ba-c6c7-487b-ab12-e72da6601592"
      },
      "execution_count": null,
      "outputs": [
        {
          "output_type": "execute_result",
          "data": {
            "text/plain": [
              "225"
            ]
          },
          "metadata": {},
          "execution_count": 54
        }
      ]
    },
    {
      "cell_type": "code",
      "source": [
        "def set_alarm(employed, vacation):\n",
        "    # Your code here\n",
        "    return True if employed == True and vacation == False else False"
      ],
      "metadata": {
        "id": "-2dlckwgNui3"
      },
      "execution_count": null,
      "outputs": []
    },
    {
      "cell_type": "code",
      "source": [
        "def stray(arr):\n",
        "    return [x for x in arr if arr.count(x) ==1][0]"
      ],
      "metadata": {
        "id": "5TfWJqI4O1R9"
      },
      "execution_count": null,
      "outputs": []
    },
    {
      "cell_type": "code",
      "source": [
        "def find_it(seq):\n",
        "    return [x for x in seq if seq.count(x)%2 != 0][0]"
      ],
      "metadata": {
        "id": "JTHPUDIyPG_B"
      },
      "execution_count": null,
      "outputs": []
    },
    {
      "cell_type": "code",
      "source": [
        "def points(games):\n",
        "    result = []\n",
        "    for x in games:\n",
        "        if x[0] > x[2]:\n",
        "            result.append(3)\n",
        "        elif x[0] == x[2]:\n",
        "            result.append(1)\n",
        "        else:\n",
        "            result.append(0)\n",
        "    return sum(result)"
      ],
      "metadata": {
        "id": "q9uhQ7f7PTRU"
      },
      "execution_count": null,
      "outputs": []
    },
    {
      "cell_type": "code",
      "source": [
        "def two_sum(numbers, target):\n",
        "    for x in numbers:\n",
        "        comp = target - x\n",
        "        if comp in numbers:\n",
        "            result = numbers.index(comp)\n",
        "            break\n",
        "            \n",
        "    return [numbers.index(x), result] if numbers.index(comp) != numbers.index(x) else [numbers.index(x),numbers.index(x)+1]"
      ],
      "metadata": {
        "id": "VhaB2lc-Po_V"
      },
      "execution_count": null,
      "outputs": []
    },
    {
      "cell_type": "code",
      "source": [
        "def positive_sum(arr):\n",
        "    # Your code here\n",
        "    return sum([x for x in arr if x > 0])"
      ],
      "metadata": {
        "id": "btJEDVmPQdWl"
      },
      "execution_count": null,
      "outputs": []
    },
    {
      "cell_type": "code",
      "source": [
        "def correct(string):\n",
        "    return string.translate(str.maketrans(\"501\", \"SOI\")) #Copiado de codewars"
      ],
      "metadata": {
        "id": "EdM879FRWso0"
      },
      "execution_count": null,
      "outputs": []
    },
    {
      "cell_type": "code",
      "source": [
        "def correct(s):\n",
        "    \n",
        "    return s.replace(\"0\",'O').replace(\"1\",'I').replace(\"5\",'S')"
      ],
      "metadata": {
        "id": "IbcFyBhwfnqP"
      },
      "execution_count": null,
      "outputs": []
    },
    {
      "cell_type": "code",
      "source": [
        "def remove_exclamation_marks(s):\n",
        "    #your code here\n",
        "    return \"\".join([x for x in s if x != \"!\"])"
      ],
      "metadata": {
        "id": "hARHckoiZfYo"
      },
      "execution_count": null,
      "outputs": []
    },
    {
      "cell_type": "code",
      "source": [
        "def stock_list(listOfArt, listOfCat):\n",
        "    dictio = {}\n",
        "    for x in listOfCat:\n",
        "        dictio[x] = 0\n",
        "    \n",
        "    for x in listOfArt:\n",
        "        for i in listOfCat:\n",
        "                        \n",
        "            if x[0] == i:\n",
        "                if i not in dictio:\n",
        "                    dictio[i] = int(\"\".join([j for j in x if j.isdigit()]))\n",
        "                else:\n",
        "                    dictio[i] += int(\"\".join([j for j in x if j.isdigit()]))\n",
        "                    \n",
        "    result=\"\"\n",
        "    for i,x in enumerate(dictio):\n",
        "        if i < len(dictio)-1:\n",
        "            result += \"({} : {}) - \".format(x, dictio[x])\n",
        "        else:\n",
        "            result += \"({} : {})\".format(x, dictio[x]) \n",
        "    \n",
        "    total = 0\n",
        "    for x in dictio.values():\n",
        "        total += x"
      ],
      "metadata": {
        "id": "owVp51gXaFVY"
      },
      "execution_count": null,
      "outputs": []
    },
    {
      "cell_type": "code",
      "source": [
        "def is_square(n):    \n",
        "    import math\n",
        "    if n < 0:\n",
        "        return False\n",
        "    \n",
        "    elif int(math.sqrt(n)+0.5) **2 == n:\n",
        "        return True\n",
        "    \n",
        "    else:\n",
        "        return False"
      ],
      "metadata": {
        "id": "f4aBLztoJFl8"
      },
      "execution_count": null,
      "outputs": []
    },
    {
      "cell_type": "code",
      "source": [
        "import string\n",
        "\n",
        "abc= set(string.ascii_lowercase)\n",
        "def is_pangram(s):\n",
        "    cadena = set(sorted([x for x in s.lower() if x.isalpha()]))\n",
        "    \n",
        "    return set(sorted(cadena)) == set(string.ascii_lowercase)"
      ],
      "metadata": {
        "id": "CKMeOUOHJUHq"
      },
      "execution_count": null,
      "outputs": []
    },
    {
      "cell_type": "code",
      "source": [
        "dict = {\"Pond\":\"A Lake\", \"Lake\":\"A Pond\", \"Book\":\"Bunch of Pages\", \"Chaddi\":\"The Undies\" }\n",
        "\n",
        "for key, value in dict.items():\n",
        "   print(key,\":\",value)"
      ],
      "metadata": {
        "id": "f3YC7b6PKsDJ",
        "colab": {
          "base_uri": "https://localhost:8080/"
        },
        "outputId": "824355fa-7308-4d84-d076-f585921444d1"
      },
      "execution_count": null,
      "outputs": [
        {
          "output_type": "stream",
          "name": "stdout",
          "text": [
            "Pond : A Lake\n",
            "Lake : A Pond\n",
            "Book : Bunch of Pages\n",
            "Chaddi : The Undies\n"
          ]
        }
      ]
    },
    {
      "cell_type": "code",
      "source": [
        "import math\n",
        "\n",
        "counterN = 1 #Numerator\n",
        "result = []\n",
        "\n",
        "#Prompts user for a \n",
        "print(\"Please enter a value for calculation: \")\n",
        "number = int(input())\n",
        "\n",
        "if (number <= 0):\n",
        "    print(\"Invalid input given.\")\n",
        "\n",
        "#Adds the numerator up to number entered by user\n",
        "while (counterN <= number):\n",
        "\n",
        "    numerator = sum(range(counterN+1))\n",
        "\n",
        "    denominator = counterN\n",
        "    \n",
        "    result.append(numerator / denominator)\n",
        "    #solucion\n",
        "    counterN += 1\n",
        "\n",
        "\n",
        "#Outputs value to user\n",
        "print(\"The result is\" , sum(result))"
      ],
      "metadata": {
        "id": "xfheMf93K3vF",
        "colab": {
          "base_uri": "https://localhost:8080/"
        },
        "outputId": "29c73442-bd68-45df-f756-4067b09014ea"
      },
      "execution_count": null,
      "outputs": [
        {
          "output_type": "stream",
          "name": "stdout",
          "text": [
            "Please enter a value for calculation: \n",
            "6\n",
            "The result is 13.5\n"
          ]
        }
      ]
    },
    {
      "cell_type": "code",
      "source": [
        "arr = [\"beg\", \"life\", \"i\", \"to\"]\n",
        "[[len(l),position] for position,l in enumerate(arr)]"
      ],
      "metadata": {
        "colab": {
          "base_uri": "https://localhost:8080/"
        },
        "id": "mDgPPE1NLQk8",
        "outputId": "cbf698e5-7f1f-4150-8785-302e44c2b7b9"
      },
      "execution_count": 6,
      "outputs": [
        {
          "output_type": "execute_result",
          "data": {
            "text/plain": [
              "[[3, 0], [4, 1], [1, 2], [2, 3]]"
            ]
          },
          "metadata": {},
          "execution_count": 6
        }
      ]
    },
    {
      "cell_type": "code",
      "source": [
        "n = \"1 2 3 4 5\"\n",
        "arr = [int(x) for x in n.strip().split()]\n",
        "\" \".join([max(arr), min(arr)])"
      ],
      "metadata": {
        "colab": {
          "base_uri": "https://localhost:8080/",
          "height": 202
        },
        "id": "5IXv3OvkNlJ1",
        "outputId": "4cfa2fcb-5989-4345-9a08-c6450e8cb2bf"
      },
      "execution_count": 9,
      "outputs": [
        {
          "output_type": "error",
          "ename": "TypeError",
          "evalue": "ignored",
          "traceback": [
            "\u001b[0;31m---------------------------------------------------------------------------\u001b[0m",
            "\u001b[0;31mTypeError\u001b[0m                                 Traceback (most recent call last)",
            "\u001b[0;32m<ipython-input-9-daeb0a8ab9f0>\u001b[0m in \u001b[0;36m<module>\u001b[0;34m()\u001b[0m\n\u001b[1;32m      1\u001b[0m \u001b[0mn\u001b[0m \u001b[0;34m=\u001b[0m \u001b[0;34m\"1 2 3 4 5\"\u001b[0m\u001b[0;34m\u001b[0m\u001b[0;34m\u001b[0m\u001b[0m\n\u001b[1;32m      2\u001b[0m \u001b[0marr\u001b[0m \u001b[0;34m=\u001b[0m \u001b[0;34m[\u001b[0m\u001b[0mint\u001b[0m\u001b[0;34m(\u001b[0m\u001b[0mx\u001b[0m\u001b[0;34m)\u001b[0m \u001b[0;32mfor\u001b[0m \u001b[0mx\u001b[0m \u001b[0;32min\u001b[0m \u001b[0mn\u001b[0m\u001b[0;34m.\u001b[0m\u001b[0mstrip\u001b[0m\u001b[0;34m(\u001b[0m\u001b[0;34m)\u001b[0m\u001b[0;34m.\u001b[0m\u001b[0msplit\u001b[0m\u001b[0;34m(\u001b[0m\u001b[0;34m)\u001b[0m\u001b[0;34m]\u001b[0m\u001b[0;34m\u001b[0m\u001b[0;34m\u001b[0m\u001b[0m\n\u001b[0;32m----> 3\u001b[0;31m \u001b[0;34m\"\"\u001b[0m\u001b[0;34m.\u001b[0m\u001b[0mjoin\u001b[0m\u001b[0;34m(\u001b[0m\u001b[0;34m[\u001b[0m\u001b[0mmax\u001b[0m\u001b[0;34m(\u001b[0m\u001b[0marr\u001b[0m\u001b[0;34m)\u001b[0m\u001b[0;34m,\u001b[0m \u001b[0mmin\u001b[0m\u001b[0;34m(\u001b[0m\u001b[0marr\u001b[0m\u001b[0;34m)\u001b[0m\u001b[0;34m]\u001b[0m\u001b[0;34m)\u001b[0m\u001b[0;34m\u001b[0m\u001b[0;34m\u001b[0m\u001b[0m\n\u001b[0m",
            "\u001b[0;31mTypeError\u001b[0m: sequence item 0: expected str instance, int found"
          ]
        }
      ]
    },
    {
      "cell_type": "code",
      "source": [
        "string = '2022-05-08T04:18:43Z UTC [ db=dev user=test pid=1073922359 userid=100 xid=2063 ]'\n",
        "import re\n",
        "re.search(\"db\", string)"
      ],
      "metadata": {
        "colab": {
          "base_uri": "https://localhost:8080/"
        },
        "id": "VRDSD9Pv6QUP",
        "outputId": "1069a575-454d-4f5e-a146-4a69fb1c6c13"
      },
      "execution_count": null,
      "outputs": [
        {
          "output_type": "execute_result",
          "data": {
            "text/plain": [
              "<re.Match object; span=(27, 29), match='db'>"
            ]
          },
          "metadata": {},
          "execution_count": 30
        }
      ]
    },
    {
      "cell_type": "code",
      "source": [
        ""
      ],
      "metadata": {
        "id": "vVgOteVa_0hy"
      },
      "execution_count": null,
      "outputs": []
    }
  ]
}