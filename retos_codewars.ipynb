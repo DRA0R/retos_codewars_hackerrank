{
  "nbformat": 4,
  "nbformat_minor": 0,
  "metadata": {
    "colab": {
      "name": "retos_codewars.ipynb",
      "provenance": [],
      "collapsed_sections": [],
      "authorship_tag": "ABX9TyMEF89lpMFleSgcJEg4IB1L",
      "include_colab_link": true
    },
    "kernelspec": {
      "name": "python3",
      "display_name": "Python 3"
    },
    "language_info": {
      "name": "python"
    }
  },
  "cells": [
    {
      "cell_type": "markdown",
      "metadata": {
        "id": "view-in-github",
        "colab_type": "text"
      },
      "source": [
        "<a href=\"https://colab.research.google.com/github/DRA0R/retos_codewars/blob/main/retos_codewars.ipynb\" target=\"_parent\"><img src=\"https://colab.research.google.com/assets/colab-badge.svg\" alt=\"Open In Colab\"/></a>"
      ]
    },
    {
      "cell_type": "code",
      "source": [
        "def spin_words(sentence):\n",
        "    new_sentence = []\n",
        "    split_sentence = sentence.split(' ')\n",
        "    \n",
        "    for x in split_sentence:\n",
        "        if len(x) > 4:\n",
        "          x=''.join(reversed(x))\n",
        "        new_sentence.append(x)\n",
        "\n",
        "    sentence_final =' '.join([str(i) for i in new_sentence])\n",
        "    return sentence_final"
      ],
      "metadata": {
        "id": "HMs5a9dzwGqU"
      },
      "execution_count": null,
      "outputs": []
    },
    {
      "cell_type": "code",
      "source": [
        "def filter_list(l):\n",
        "    'return a new list with the strings filtered out'\n",
        "    return [x for x in l if type(x) == int]"
      ],
      "metadata": {
        "id": "m0oQOoWzwQOW"
      },
      "execution_count": null,
      "outputs": []
    },
    {
      "cell_type": "code",
      "source": [
        "def add_binary(a,b):\n",
        "    #your code here\n",
        "    c = a+b\n",
        "    binary = []\n",
        "    while c != 0:\n",
        "        binary.append(c%2)\n",
        "        c //= 2\n",
        "\n",
        "    binary = binary[::-1]  \n",
        "    new_binary=\"\".join([str(i) for i in binary])\n",
        "\n",
        "    return new_binary"
      ],
      "metadata": {
        "id": "NbiWLS2I5pY2"
      },
      "execution_count": null,
      "outputs": []
    },
    {
      "cell_type": "code",
      "source": [
        "def solution(number):\n",
        "    list_numbers = [x for x in range(number)]\n",
        "    multiples_numbers = [x for x in list_numbers if x%3 == 0 or x%5 == 0]\n",
        "    x = sum(multiples_numbers)\n",
        "    return x"
      ],
      "metadata": {
        "id": "Td49FUjd-EHP"
      },
      "execution_count": null,
      "outputs": []
    },
    {
      "cell_type": "code",
      "source": [
        "def duplicate_encode(word):\n",
        "    #your code here\n",
        "    di = []\n",
        "    result= []\n",
        "    word= word.lower()\n",
        "    for x in word:\n",
        "        di.append(word.count(x))\n",
        "    for x in di:\n",
        "        if x > 1:\n",
        "            x = \")\"\n",
        "            result.append(x)\n",
        "        else:\n",
        "            x = \"(\"\n",
        "            result.append(x)\n",
        "    return ''.join([str(i) for i in result])"
      ],
      "metadata": {
        "id": "GLP7FhyxEzjk"
      },
      "execution_count": null,
      "outputs": []
    },
    {
      "cell_type": "code",
      "source": [
        "def solution(s):\n",
        "    if len(s)%2 != 0:\n",
        "        s = s + '_'\n",
        "    lis=[]\n",
        "    for x in range(0,len(s),2):\n",
        "        lis.append(s[x:x+2])\n",
        "    return lis"
      ],
      "metadata": {
        "id": "GsuwjqS_3EBt"
      },
      "execution_count": null,
      "outputs": []
    },
    {
      "cell_type": "code",
      "source": [
        "def anagrams(word, words):\n",
        "    #your code here\n",
        "    result= []\n",
        "    di = {}\n",
        "    di_s = []\n",
        "    for i in word:\n",
        "        di[i] = word.count(i)\n",
        "\n",
        "    for word_in_list in words:\n",
        "        inter = {}\n",
        "        for i in word_in_list:\n",
        "            inter[i] = word_in_list.count(i)\n",
        "\n",
        "        di_s.append(inter)\n",
        "    for x,c in zip(di_s,range(len(di_s))):\n",
        "        if x == di:\n",
        "          result.append(words[c])\n",
        "    return result"
      ],
      "metadata": {
        "id": "ZOSmFpjn41XG"
      },
      "execution_count": null,
      "outputs": []
    },
    {
      "cell_type": "code",
      "source": [
        "def create_phone_number(n):\n",
        "    #your code here\n",
        "    first = n[0:3]\n",
        "    second = n[3:6]\n",
        "    third = n[6::]\n",
        "    space = [\" \"]\n",
        "    line = [\"-\"]\n",
        "    m = [\"(\"]\n",
        "    a=[\")\"]\n",
        "    \n",
        "    total = m + first + a + space + second + line + third\n",
        "             \n",
        "    return ''.join([str(i) for i in total])"
      ],
      "metadata": {
        "id": "F8Tnlq7z5d0L"
      },
      "execution_count": null,
      "outputs": []
    },
    {
      "cell_type": "code",
      "source": [
        "def create_phone_number(n):\n",
        "    return \"({}{}{}) {}{}{}-{}{}{}{}\".format(*n)"
      ],
      "metadata": {
        "id": "1qCMPOEqXrw5"
      },
      "execution_count": null,
      "outputs": []
    },
    {
      "cell_type": "code",
      "source": [
        "def likes(names):\n",
        "    # your code here\n",
        "    if len(names) == 0:\n",
        "        result = 'no one likes this'        \n",
        "    elif len(names) == 1 :\n",
        "        result = \"{} likes this\".format(names[0])\n",
        "    elif len(names) == 2:\n",
        "        result =\"{} and {} like this\".format(names[0],names[1])\n",
        "    elif len(names) == 3:\n",
        "        result =\"{}, {} and {} like this\".format(names[0],names[1],names[2])\n",
        "    else:\n",
        "        result =\"{}, {} and {} others like this\".format(names[0],names[1],len(names)-2)\n",
        "    return result"
      ],
      "metadata": {
        "id": "BwR3qLqn91r5"
      },
      "execution_count": null,
      "outputs": []
    },
    {
      "cell_type": "code",
      "source": [
        "text = 'hello'"
      ],
      "metadata": {
        "id": "pItuQWIsZv4P"
      },
      "execution_count": null,
      "outputs": []
    },
    {
      "cell_type": "code",
      "source": [
        "def encode(st):\n",
        "  new_st = ''\n",
        "  for x,c in zip(st,range(len(st))):\n",
        "    if x == 'a':\n",
        "      new_letter = '1'\n",
        "    elif x == 'e':\n",
        "       new_letter = '2'\n",
        "    elif x == 'i':\n",
        "      new_letter = '3'\n",
        "    elif x == 'o':\n",
        "      new_letter = '4'\n",
        "    elif x == 'u':\n",
        "      new_letter = '5'\n",
        "    else:\n",
        "      new_letter = x\n",
        "\n",
        "    new_st += new_letter\n",
        "  return new_st\n",
        "        #st[c] = new_letter"
      ],
      "metadata": {
        "id": "2XT94B_Kj61W"
      },
      "execution_count": null,
      "outputs": []
    },
    {
      "cell_type": "code",
      "source": [
        ""
      ],
      "metadata": {
        "id": "yfmlX9N9j_lm"
      },
      "execution_count": null,
      "outputs": []
    },
    {
      "cell_type": "code",
      "source": [
        "def decode(st):\n",
        "  new_st_deco = ''\n",
        "  for x,c in zip(st,range(len(st))):\n",
        "    if x == '1':\n",
        "      new_letter = 'a'\n",
        "    elif x == '2':\n",
        "       new_letter = 'e'\n",
        "    elif x == '3':\n",
        "      new_letter = 'i'\n",
        "    elif x == '4':\n",
        "      new_letter = 'o'\n",
        "    elif x == '5':\n",
        "      new_letter = 'u'\n",
        "    else:\n",
        "      new_letter = x\n",
        "\n",
        "    new_st_deco += new_letter\n",
        "  return new_st_deco"
      ],
      "metadata": {
        "id": "7CZrdwdUlBsh"
      },
      "execution_count": null,
      "outputs": []
    },
    {
      "cell_type": "code",
      "source": [
        "def kebabize(string):\n",
        "    #your code here\n",
        "    new = [x for x in string if x.isnumeric() ==False]\n",
        "    result = []\n",
        "    for x,c in zip(new,range(len(new))):\n",
        "        if x.islower() == True:\n",
        "            result.append(x)\n",
        "\n",
        "        elif x.isupper() == True:\n",
        "            if c == 0:\n",
        "                result.append(x.lower())\n",
        "            else:\n",
        "                result.append('-')\n",
        "                result.append(x.lower())\n",
        "    return \"\".join([x for x in result])"
      ],
      "metadata": {
        "id": "JDoDCjbbNzrH"
      },
      "execution_count": null,
      "outputs": []
    },
    {
      "cell_type": "code",
      "source": [
        "def find_missing_letter(chars):\n",
        "    import string\n",
        "    new_chars = \"\".join(chars)\n",
        "\n",
        "    if new_chars.isupper() == False:\n",
        "        abecedario = string.ascii_lowercase\n",
        "    elif new_chars.isupper() == True:\n",
        "         abecedario = string.ascii_uppercase\n",
        "\n",
        "    inicio = abecedario.find(new_chars[0])\n",
        "    final = len(new_chars) + inicio\n",
        "    new_abecedario = abecedario[inicio:final]\n",
        "\n",
        "    for x in range(len(new_abecedario)):\n",
        "         if new_abecedario[x] != new_chars[x]:\n",
        "                esta = new_abecedario[x]\n",
        "                break\n",
        "        \n",
        "    return esta"
      ],
      "metadata": {
        "colab": {
          "base_uri": "https://localhost:8080/",
          "height": 35
        },
        "id": "9ur-K5KN2pQ9",
        "outputId": "afe5408b-66f4-44b4-bc96-12a4bb105f1e"
      },
      "execution_count": null,
      "outputs": [
        {
          "output_type": "execute_result",
          "data": {
            "text/plain": [
              "'11'"
            ],
            "application/vnd.google.colaboratory.intrinsic+json": {
              "type": "string"
            }
          },
          "metadata": {},
          "execution_count": 45
        }
      ]
    },
    {
      "cell_type": "code",
      "source": [
        "def descending_order(num):\n",
        "    # Bust a move right here\n",
        "    int_to_list = [int(x) for x in str(num)]\n",
        "    int_to_list.sort(reverse= True)\n",
        "    return int(\"\".join(str(i) for i in int_to_list))"
      ],
      "metadata": {
        "id": "xR4DoKCp6gPX"
      },
      "execution_count": 19,
      "outputs": []
    },
    {
      "cell_type": "code",
      "source": [
        "def remove_char(s):\n",
        "    #your code here\n",
        "    \n",
        "    return s[1:-1]"
      ],
      "metadata": {
        "id": "_yqoRtHMJX1j"
      },
      "execution_count": 27,
      "outputs": []
    },
    {
      "cell_type": "code",
      "source": [
        "def binary_array_to_number(arr):\n",
        "    # your code\n",
        "    return int(\"\".join(str(i) for i in arr), 2)"
      ],
      "metadata": {
        "id": "WRyGBDCpJab1"
      },
      "execution_count": 51,
      "outputs": []
    },
    {
      "cell_type": "code",
      "source": [
        ""
      ],
      "metadata": {
        "colab": {
          "base_uri": "https://localhost:8080/"
        },
        "id": "j8ZuDKILUyPn",
        "outputId": "35180966-62e0-44de-9726-1caca60c7221"
      },
      "execution_count": 52,
      "outputs": [
        {
          "output_type": "execute_result",
          "data": {
            "text/plain": [
              "2"
            ]
          },
          "metadata": {},
          "execution_count": 52
        }
      ]
    },
    {
      "cell_type": "code",
      "source": [
        ""
      ],
      "metadata": {
        "id": "fxyB9k86RGCF"
      },
      "execution_count": 52,
      "outputs": []
    },
    {
      "cell_type": "code",
      "source": [
        ""
      ],
      "metadata": {
        "id": "5yHhfIx-RUE7"
      },
      "execution_count": null,
      "outputs": []
    }
  ]
}