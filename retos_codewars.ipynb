{
  "nbformat": 4,
  "nbformat_minor": 0,
  "metadata": {
    "colab": {
      "name": "retos_codewars.ipynb",
      "provenance": [],
      "collapsed_sections": [],
      "authorship_tag": "ABX9TyMtdCBOrhwrlX9m1uVDiyDk",
      "include_colab_link": true
    },
    "kernelspec": {
      "name": "python3",
      "display_name": "Python 3"
    },
    "language_info": {
      "name": "python"
    }
  },
  "cells": [
    {
      "cell_type": "markdown",
      "metadata": {
        "id": "view-in-github",
        "colab_type": "text"
      },
      "source": [
        "<a href=\"https://colab.research.google.com/github/DRA0R/retos_codewars/blob/main/retos_codewars.ipynb\" target=\"_parent\"><img src=\"https://colab.research.google.com/assets/colab-badge.svg\" alt=\"Open In Colab\"/></a>"
      ]
    },
    {
      "cell_type": "code",
      "source": [
        "def spin_words(sentence):\n",
        "    new_sentence = []\n",
        "    split_sentence = sentence.split(' ')\n",
        "    \n",
        "    for x in split_sentence:\n",
        "        if len(x) > 4:\n",
        "          x=''.join(reversed(x))\n",
        "        new_sentence.append(x)\n",
        "\n",
        "    sentence_final =' '.join([str(i) for i in new_sentence])\n",
        "    return sentence_final"
      ],
      "metadata": {
        "id": "HMs5a9dzwGqU"
      },
      "execution_count": null,
      "outputs": []
    },
    {
      "cell_type": "code",
      "source": [
        "def filter_list(l):\n",
        "    'return a new list with the strings filtered out'\n",
        "    return [x for x in l if type(x) == int]"
      ],
      "metadata": {
        "id": "m0oQOoWzwQOW"
      },
      "execution_count": null,
      "outputs": []
    },
    {
      "cell_type": "code",
      "source": [
        "def add_binary(a,b):\n",
        "    #your code here\n",
        "    c = a+b\n",
        "    binary = []\n",
        "    while c != 0:\n",
        "        binary.append(c%2)\n",
        "        c //= 2\n",
        "\n",
        "    binary = binary[::-1]  \n",
        "    new_binary=\"\".join([str(i) for i in binary])\n",
        "\n",
        "    return new_binary"
      ],
      "metadata": {
        "id": "NbiWLS2I5pY2"
      },
      "execution_count": null,
      "outputs": []
    },
    {
      "cell_type": "code",
      "source": [
        "def solution(number):\n",
        "    list_numbers = [x for x in range(number)]\n",
        "    multiples_numbers = [x for x in list_numbers if x%3 == 0 or x%5 == 0]\n",
        "    x = sum(multiples_numbers)\n",
        "    return x"
      ],
      "metadata": {
        "id": "Td49FUjd-EHP"
      },
      "execution_count": null,
      "outputs": []
    },
    {
      "cell_type": "code",
      "source": [
        "def duplicate_encode(word):\n",
        "    #your code here\n",
        "    di = []\n",
        "    result= []\n",
        "    word= word.lower()\n",
        "    for x in word:\n",
        "        di.append(word.count(x))\n",
        "    for x in di:\n",
        "        if x > 1:\n",
        "            x = \")\"\n",
        "            result.append(x)\n",
        "        else:\n",
        "            x = \"(\"\n",
        "            result.append(x)\n",
        "    return ''.join([str(i) for i in result])"
      ],
      "metadata": {
        "id": "GLP7FhyxEzjk"
      },
      "execution_count": null,
      "outputs": []
    },
    {
      "cell_type": "code",
      "source": [
        "def solution(s):\n",
        "    if len(s)%2 != 0:\n",
        "        s = s + '_'\n",
        "    lis=[]\n",
        "    for x in range(0,len(s),2):\n",
        "        lis.append(s[x:x+2])\n",
        "    return lis"
      ],
      "metadata": {
        "id": "GsuwjqS_3EBt"
      },
      "execution_count": null,
      "outputs": []
    },
    {
      "cell_type": "code",
      "source": [
        ""
      ],
      "metadata": {
        "id": "lTDGkwFr4FT5"
      },
      "execution_count": null,
      "outputs": []
    },
    {
      "cell_type": "code",
      "source": [
        "di == di_s[0]"
      ],
      "metadata": {
        "colab": {
          "base_uri": "https://localhost:8080/"
        },
        "id": "ZOSmFpjn41XG",
        "outputId": "9adbd230-0f45-43ae-c658-2e40eb072af5"
      },
      "execution_count": null,
      "outputs": [
        {
          "output_type": "execute_result",
          "data": {
            "text/plain": [
              "False"
            ]
          },
          "metadata": {},
          "execution_count": 225
        }
      ]
    },
    {
      "cell_type": "code",
      "source": [
        "word='abba'\n",
        "words= ['aabb', 'abcd', 'bbaa', 'dada']\n",
        "di={}\n",
        "di_s=[]\n",
        "for i in word:\n",
        "  di[i] = word.count(i)\n",
        "        \n",
        "  for y in words:\n",
        "    inter = {}\n",
        "    for i in y:\n",
        "      inter[i] = word.count(i)\n",
        "    di_s.append(inter)"
      ],
      "metadata": {
        "id": "F8Tnlq7z5d0L"
      },
      "execution_count": null,
      "outputs": []
    },
    {
      "cell_type": "code",
      "source": [
        "di_s"
      ],
      "metadata": {
        "colab": {
          "base_uri": "https://localhost:8080/"
        },
        "id": "P7BvVPsA9Nrw",
        "outputId": "65dfb444-7677-45e0-921e-e2ecd322fe69"
      },
      "execution_count": null,
      "outputs": [
        {
          "output_type": "execute_result",
          "data": {
            "text/plain": [
              "[{'a': 2, 'b': 2},\n",
              " {'a': 2, 'b': 2, 'c': 0, 'd': 0},\n",
              " {'a': 2, 'b': 2},\n",
              " {'a': 2, 'd': 0},\n",
              " {'a': 2, 'b': 2},\n",
              " {'a': 2, 'b': 2, 'c': 0, 'd': 0},\n",
              " {'a': 2, 'b': 2},\n",
              " {'a': 2, 'd': 0},\n",
              " {'a': 2, 'b': 2},\n",
              " {'a': 2, 'b': 2, 'c': 0, 'd': 0},\n",
              " {'a': 2, 'b': 2},\n",
              " {'a': 2, 'd': 0},\n",
              " {'a': 2, 'b': 2},\n",
              " {'a': 2, 'b': 2, 'c': 0, 'd': 0},\n",
              " {'a': 2, 'b': 2},\n",
              " {'a': 2, 'd': 0}]"
            ]
          },
          "metadata": {},
          "execution_count": 227
        }
      ]
    },
    {
      "cell_type": "markdown",
      "source": [
        ""
      ],
      "metadata": {
        "id": "nFB6plOHBD0N"
      }
    },
    {
      "cell_type": "code",
      "source": [
        ""
      ],
      "metadata": {
        "colab": {
          "base_uri": "https://localhost:8080/"
        },
        "id": "8-hW2W_M9zXo",
        "outputId": "22cd8492-bd73-44b8-a326-75edf9ca8756"
      },
      "execution_count": null,
      "outputs": [
        {
          "output_type": "execute_result",
          "data": {
            "text/plain": [
              "[{'a': 2, 'b': 2},\n",
              " {'a': 2, 'b': 2, 'c': 0, 'd': 0},\n",
              " {'a': 2, 'b': 2},\n",
              " {'a': 2, 'd': 0},\n",
              " {'a': 2, 'b': 2},\n",
              " {'a': 2, 'b': 2, 'c': 0, 'd': 0},\n",
              " {'a': 2, 'b': 2},\n",
              " {'a': 2, 'd': 0},\n",
              " {'a': 2, 'b': 2},\n",
              " {'a': 2, 'b': 2, 'c': 0, 'd': 0},\n",
              " {'a': 2, 'b': 2},\n",
              " {'a': 2, 'd': 0},\n",
              " {'a': 2, 'b': 2},\n",
              " {'a': 2, 'b': 2, 'c': 0, 'd': 0},\n",
              " {'a': 2, 'b': 2},\n",
              " {'a': 2, 'd': 0}]"
            ]
          },
          "metadata": {},
          "execution_count": 228
        }
      ]
    },
    {
      "cell_type": "code",
      "source": [
        ""
      ],
      "metadata": {
        "id": "BwR3qLqn91r5"
      },
      "execution_count": null,
      "outputs": []
    }
  ]
}