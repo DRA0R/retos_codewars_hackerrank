{
  "nbformat": 4,
  "nbformat_minor": 0,
  "metadata": {
    "colab": {
      "name": "retos_codewars.ipynb",
      "provenance": [],
      "collapsed_sections": [],
      "authorship_tag": "ABX9TyMR+Ga4HtntZSeJgM3Gplwu",
      "include_colab_link": true
    },
    "kernelspec": {
      "name": "python3",
      "display_name": "Python 3"
    },
    "language_info": {
      "name": "python"
    }
  },
  "cells": [
    {
      "cell_type": "markdown",
      "metadata": {
        "id": "view-in-github",
        "colab_type": "text"
      },
      "source": [
        "<a href=\"https://colab.research.google.com/github/DRA0R/retos_codewars/blob/main/retos_codewars.ipynb\" target=\"_parent\"><img src=\"https://colab.research.google.com/assets/colab-badge.svg\" alt=\"Open In Colab\"/></a>"
      ]
    },
    {
      "cell_type": "code",
      "source": [
        "def spin_words(sentence):\n",
        "    new_sentence = []\n",
        "    split_sentence = sentence.split(' ')\n",
        "    \n",
        "    for x in split_sentence:\n",
        "        if len(x) > 4:\n",
        "          x=''.join(reversed(x))\n",
        "        new_sentence.append(x)\n",
        "\n",
        "    sentence_final =' '.join([str(i) for i in new_sentence])\n",
        "    return sentence_final"
      ],
      "metadata": {
        "id": "HMs5a9dzwGqU"
      },
      "execution_count": 1,
      "outputs": []
    },
    {
      "cell_type": "code",
      "source": [
        "def filter_list(l):\n",
        "    'return a new list with the strings filtered out'\n",
        "    return [x for x in l if type(x) == int]"
      ],
      "metadata": {
        "id": "m0oQOoWzwQOW"
      },
      "execution_count": 2,
      "outputs": []
    },
    {
      "cell_type": "code",
      "source": [
        "def add_binary(a,b):\n",
        "    #your code here\n",
        "    c = a+b\n",
        "    binary = []\n",
        "    while c != 0:\n",
        "        binary.append(c%2)\n",
        "        c //= 2\n",
        "\n",
        "    binary = binary[::-1]  \n",
        "    new_binary=\"\".join([str(i) for i in binary])\n",
        "\n",
        "    return new_binary"
      ],
      "metadata": {
        "id": "NbiWLS2I5pY2"
      },
      "execution_count": 3,
      "outputs": []
    },
    {
      "cell_type": "code",
      "source": [
        "def solution(number):\n",
        "    list_numbers = [x for x in range(number)]\n",
        "    multiples_numbers = [x for x in list_numbers if x%3 == 0 or x%5 == 0]\n",
        "    x = sum(multiples_numbers)\n",
        "    return x"
      ],
      "metadata": {
        "id": "Td49FUjd-EHP"
      },
      "execution_count": 4,
      "outputs": []
    },
    {
      "cell_type": "code",
      "source": [
        "def duplicate_encode(word):\n",
        "    #your code here\n",
        "    di = []\n",
        "    result= []\n",
        "    word= word.lower()\n",
        "    for x in word:\n",
        "        di.append(word.count(x))\n",
        "    for x in di:\n",
        "        if x > 1:\n",
        "            x = \")\"\n",
        "            result.append(x)\n",
        "        else:\n",
        "            x = \"(\"\n",
        "            result.append(x)\n",
        "    return ''.join([str(i) for i in result])"
      ],
      "metadata": {
        "id": "GLP7FhyxEzjk"
      },
      "execution_count": 5,
      "outputs": []
    },
    {
      "cell_type": "code",
      "source": [
        "def solution(s):\n",
        "    if len(s)%2 != 0:\n",
        "        s = s + '_'\n",
        "    lis=[]\n",
        "    for x in range(0,len(s),2):\n",
        "        lis.append(s[x:x+2])\n",
        "    return lis"
      ],
      "metadata": {
        "id": "GsuwjqS_3EBt"
      },
      "execution_count": 6,
      "outputs": []
    },
    {
      "cell_type": "code",
      "source": [
        "def anagrams(word, words):\n",
        "    #your code here\n",
        "    result= []\n",
        "    di = {}\n",
        "    di_s = []\n",
        "    for i in word:\n",
        "        di[i] = word.count(i)\n",
        "\n",
        "    for word_in_list in words:\n",
        "        inter = {}\n",
        "        for i in word_in_list:\n",
        "            inter[i] = word_in_list.count(i)\n",
        "\n",
        "        di_s.append(inter)\n",
        "    for x,c in zip(di_s,range(len(di_s))):\n",
        "        if x == di:\n",
        "          result.append(words[c])\n",
        "    return result"
      ],
      "metadata": {
        "id": "ZOSmFpjn41XG"
      },
      "execution_count": 18,
      "outputs": []
    },
    {
      "cell_type": "code",
      "source": [
        ""
      ],
      "metadata": {
        "id": "F8Tnlq7z5d0L"
      },
      "execution_count": 20,
      "outputs": []
    },
    {
      "cell_type": "code",
      "source": [
        ""
      ],
      "metadata": {
        "id": "P7BvVPsA9Nrw"
      },
      "execution_count": 20,
      "outputs": []
    },
    {
      "cell_type": "code",
      "source": [
        ""
      ],
      "metadata": {
        "id": "8-hW2W_M9zXo"
      },
      "execution_count": 20,
      "outputs": []
    },
    {
      "cell_type": "code",
      "source": [
        ""
      ],
      "metadata": {
        "id": "BwR3qLqn91r5"
      },
      "execution_count": null,
      "outputs": []
    }
  ]
}