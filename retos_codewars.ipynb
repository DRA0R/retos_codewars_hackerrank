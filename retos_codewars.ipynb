{
  "nbformat": 4,
  "nbformat_minor": 0,
  "metadata": {
    "colab": {
      "name": "retos_codewars.ipynb",
      "provenance": [],
      "collapsed_sections": [],
      "authorship_tag": "ABX9TyM75Sxy0mTt7mCLmLUNP/wm",
      "include_colab_link": true
    },
    "kernelspec": {
      "name": "python3",
      "display_name": "Python 3"
    },
    "language_info": {
      "name": "python"
    }
  },
  "cells": [
    {
      "cell_type": "markdown",
      "metadata": {
        "id": "view-in-github",
        "colab_type": "text"
      },
      "source": [
        "<a href=\"https://colab.research.google.com/github/DRA0R/retos_codewars/blob/main/retos_codewars.ipynb\" target=\"_parent\"><img src=\"https://colab.research.google.com/assets/colab-badge.svg\" alt=\"Open In Colab\"/></a>"
      ]
    },
    {
      "cell_type": "code",
      "source": [
        "def spin_words(sentence):\n",
        "    new_sentence = []\n",
        "    split_sentence = sentence.split(' ')\n",
        "    \n",
        "    for x in split_sentence:\n",
        "        if len(x) > 4:\n",
        "          x=''.join(reversed(x))\n",
        "        new_sentence.append(x)\n",
        "\n",
        "    sentence_final =' '.join([str(i) for i in new_sentence])\n",
        "    return sentence_final"
      ],
      "metadata": {
        "id": "HMs5a9dzwGqU"
      },
      "execution_count": null,
      "outputs": []
    },
    {
      "cell_type": "code",
      "source": [
        "def filter_list(l):\n",
        "    'return a new list with the strings filtered out'\n",
        "    return [x for x in l if type(x) == int]"
      ],
      "metadata": {
        "id": "m0oQOoWzwQOW"
      },
      "execution_count": null,
      "outputs": []
    },
    {
      "cell_type": "code",
      "source": [
        "def add_binary(a,b):\n",
        "    #your code here\n",
        "    c = a+b\n",
        "    binary = []\n",
        "    while c != 0:\n",
        "        binary.append(c%2)\n",
        "        c //= 2\n",
        "\n",
        "    binary = binary[::-1]  \n",
        "    new_binary=\"\".join([str(i) for i in binary])\n",
        "\n",
        "    return new_binary"
      ],
      "metadata": {
        "id": "NbiWLS2I5pY2"
      },
      "execution_count": null,
      "outputs": []
    },
    {
      "cell_type": "code",
      "source": [
        "def solution(number):\n",
        "    list_numbers = [x for x in range(number)]\n",
        "    multiples_numbers = [x for x in list_numbers if x%3 == 0 or x%5 == 0]\n",
        "    x = sum(multiples_numbers)\n",
        "    return x"
      ],
      "metadata": {
        "id": "Td49FUjd-EHP"
      },
      "execution_count": null,
      "outputs": []
    },
    {
      "cell_type": "code",
      "source": [
        "def duplicate_encode(word):\n",
        "    #your code here\n",
        "    di = []\n",
        "    result= []\n",
        "    word= word.lower()\n",
        "    for x in word:\n",
        "        di.append(word.count(x))\n",
        "    for x in di:\n",
        "        if x > 1:\n",
        "            x = \")\"\n",
        "            result.append(x)\n",
        "        else:\n",
        "            x = \"(\"\n",
        "            result.append(x)\n",
        "    return ''.join([str(i) for i in result])"
      ],
      "metadata": {
        "id": "GLP7FhyxEzjk"
      },
      "execution_count": null,
      "outputs": []
    },
    {
      "cell_type": "code",
      "source": [
        "def solution(s):\n",
        "    if len(s)%2 != 0:\n",
        "        s = s + '_'\n",
        "    lis=[]\n",
        "    for x in range(0,len(s),2):\n",
        "        lis.append(s[x:x+2])\n",
        "    return lis"
      ],
      "metadata": {
        "id": "GsuwjqS_3EBt"
      },
      "execution_count": null,
      "outputs": []
    },
    {
      "cell_type": "code",
      "source": [
        "def anagrams(word, words):\n",
        "    #your code here\n",
        "    result= []\n",
        "    di = {}\n",
        "    di_s = []\n",
        "    for i in word:\n",
        "        di[i] = word.count(i)\n",
        "\n",
        "    for word_in_list in words:\n",
        "        inter = {}\n",
        "        for i in word_in_list:\n",
        "            inter[i] = word_in_list.count(i)\n",
        "\n",
        "        di_s.append(inter)\n",
        "    for x,c in zip(di_s,range(len(di_s))):\n",
        "        if x == di:\n",
        "          result.append(words[c])\n",
        "    return result"
      ],
      "metadata": {
        "id": "ZOSmFpjn41XG"
      },
      "execution_count": null,
      "outputs": []
    },
    {
      "cell_type": "code",
      "source": [
        "def create_phone_number(n):\n",
        "    #your code here\n",
        "    first = n[0:3]\n",
        "    second = n[3:6]\n",
        "    third = n[6::]\n",
        "    space = [\" \"]\n",
        "    line = [\"-\"]\n",
        "    m = [\"(\"]\n",
        "    a=[\")\"]\n",
        "    \n",
        "    total = m + first + a + space + second + line + third\n",
        "             \n",
        "    return ''.join([str(i) for i in total])"
      ],
      "metadata": {
        "id": "F8Tnlq7z5d0L"
      },
      "execution_count": null,
      "outputs": []
    },
    {
      "cell_type": "code",
      "source": [
        "def create_phone_number(n):\n",
        "    return \"({}{}{}) {}{}{}-{}{}{}{}\".format(*n)"
      ],
      "metadata": {
        "id": "1qCMPOEqXrw5"
      },
      "execution_count": null,
      "outputs": []
    },
    {
      "cell_type": "code",
      "source": [
        "def likes(names):\n",
        "    # your code here\n",
        "    if len(names) == 0:\n",
        "        result = 'no one likes this'        \n",
        "    elif len(names) == 1 :\n",
        "        result = \"{} likes this\".format(names[0])\n",
        "    elif len(names) == 2:\n",
        "        result =\"{} and {} like this\".format(names[0],names[1])\n",
        "    elif len(names) == 3:\n",
        "        result =\"{}, {} and {} like this\".format(names[0],names[1],names[2])\n",
        "    else:\n",
        "        result =\"{}, {} and {} others like this\".format(names[0],names[1],len(names)-2)\n",
        "    return result"
      ],
      "metadata": {
        "id": "BwR3qLqn91r5"
      },
      "execution_count": null,
      "outputs": []
    },
    {
      "cell_type": "code",
      "source": [
        "text = 'hello'"
      ],
      "metadata": {
        "id": "pItuQWIsZv4P"
      },
      "execution_count": null,
      "outputs": []
    },
    {
      "cell_type": "code",
      "source": [
        "def encode(st):\n",
        "  new_st = ''\n",
        "  for x,c in zip(st,range(len(st))):\n",
        "    if x == 'a':\n",
        "      new_letter = '1'\n",
        "    elif x == 'e':\n",
        "       new_letter = '2'\n",
        "    elif x == 'i':\n",
        "      new_letter = '3'\n",
        "    elif x == 'o':\n",
        "      new_letter = '4'\n",
        "    elif x == 'u':\n",
        "      new_letter = '5'\n",
        "    else:\n",
        "      new_letter = x\n",
        "\n",
        "    new_st += new_letter\n",
        "  return new_st\n",
        "        #st[c] = new_letter"
      ],
      "metadata": {
        "id": "2XT94B_Kj61W"
      },
      "execution_count": null,
      "outputs": []
    },
    {
      "cell_type": "code",
      "source": [
        ""
      ],
      "metadata": {
        "id": "yfmlX9N9j_lm"
      },
      "execution_count": null,
      "outputs": []
    },
    {
      "cell_type": "code",
      "source": [
        "def decode(st):\n",
        "  new_st_deco = ''\n",
        "  for x,c in zip(st,range(len(st))):\n",
        "    if x == '1':\n",
        "      new_letter = 'a'\n",
        "    elif x == '2':\n",
        "       new_letter = 'e'\n",
        "    elif x == '3':\n",
        "      new_letter = 'i'\n",
        "    elif x == '4':\n",
        "      new_letter = 'o'\n",
        "    elif x == '5':\n",
        "      new_letter = 'u'\n",
        "    else:\n",
        "      new_letter = x\n",
        "\n",
        "    new_st_deco += new_letter\n",
        "  return new_st_deco"
      ],
      "metadata": {
        "id": "7CZrdwdUlBsh"
      },
      "execution_count": null,
      "outputs": []
    },
    {
      "cell_type": "code",
      "source": [
        "def kebabize(string):\n",
        "    #your code here\n",
        "    new = [x for x in string if x.isnumeric() ==False]\n",
        "    result = []\n",
        "    for x,c in zip(new,range(len(new))):\n",
        "        if x.islower() == True:\n",
        "            result.append(x)\n",
        "\n",
        "        elif x.isupper() == True:\n",
        "            if c == 0:\n",
        "                result.append(x.lower())\n",
        "            else:\n",
        "                result.append('-')\n",
        "                result.append(x.lower())\n",
        "    return \"\".join([x for x in result])"
      ],
      "metadata": {
        "id": "JDoDCjbbNzrH"
      },
      "execution_count": null,
      "outputs": []
    },
    {
      "cell_type": "code",
      "source": [
        "def find_missing_letter(chars):\n",
        "    import string\n",
        "    new_chars = \"\".join(chars)\n",
        "\n",
        "    if new_chars.isupper() == False:\n",
        "        abecedario = string.ascii_lowercase\n",
        "    elif new_chars.isupper() == True:\n",
        "         abecedario = string.ascii_uppercase\n",
        "\n",
        "    inicio = abecedario.find(new_chars[0])\n",
        "    final = len(new_chars) + inicio\n",
        "    new_abecedario = abecedario[inicio:final]\n",
        "\n",
        "    for x in range(len(new_abecedario)):\n",
        "         if new_abecedario[x] != new_chars[x]:\n",
        "                esta = new_abecedario[x]\n",
        "                break\n",
        "        \n",
        "    return esta"
      ],
      "metadata": {
        "colab": {
          "base_uri": "https://localhost:8080/",
          "height": 35
        },
        "id": "9ur-K5KN2pQ9",
        "outputId": "afe5408b-66f4-44b4-bc96-12a4bb105f1e"
      },
      "execution_count": null,
      "outputs": [
        {
          "output_type": "execute_result",
          "data": {
            "text/plain": [
              "'11'"
            ],
            "application/vnd.google.colaboratory.intrinsic+json": {
              "type": "string"
            }
          },
          "metadata": {},
          "execution_count": 45
        }
      ]
    },
    {
      "cell_type": "code",
      "source": [
        "def descending_order(num):\n",
        "    # Bust a move right here\n",
        "    int_to_list = [int(x) for x in str(num)]\n",
        "    int_to_list.sort(reverse= True)\n",
        "    return int(\"\".join(str(i) for i in int_to_list))"
      ],
      "metadata": {
        "id": "xR4DoKCp6gPX"
      },
      "execution_count": null,
      "outputs": []
    },
    {
      "cell_type": "code",
      "source": [
        "def remove_char(s):\n",
        "    #your code here\n",
        "    \n",
        "    return s[1:-1]"
      ],
      "metadata": {
        "id": "_yqoRtHMJX1j"
      },
      "execution_count": null,
      "outputs": []
    },
    {
      "cell_type": "code",
      "source": [
        "def binary_array_to_number(arr):\n",
        "    # your code\n",
        "    return int(\"\".join(str(i) for i in arr), 2)"
      ],
      "metadata": {
        "id": "WRyGBDCpJab1"
      },
      "execution_count": null,
      "outputs": []
    },
    {
      "cell_type": "code",
      "source": [
        "def square_digits(num):\n",
        "    to_convert = [str(int(x)**2) for x in str(num)]\n",
        "    return int(\"\".join(to_convert))"
      ],
      "metadata": {
        "id": "j8ZuDKILUyPn"
      },
      "execution_count": null,
      "outputs": []
    },
    {
      "cell_type": "code",
      "source": [
        "def open_or_senior(data):\n",
        "    lista = []\n",
        "    for x in data:\n",
        "        if x[1] > 7 and x[0] >= 55:\n",
        "            new = \"Senior\"\n",
        "        else:\n",
        "            new = \"Open\"\n",
        "            \n",
        "        lista.append(new)\n",
        "    return lista"
      ],
      "metadata": {
        "id": "7qYhZdXFKDob"
      },
      "execution_count": null,
      "outputs": []
    },
    {
      "cell_type": "code",
      "source": [
        "def greet(name):\n",
        "    #Good Luck (like you need it)\n",
        "    return \"Hello, {} how are you doing today?\".format(name)"
      ],
      "metadata": {
        "id": "4cPSE0O9Ni7b"
      },
      "execution_count": null,
      "outputs": []
    },
    {
      "cell_type": "code",
      "source": [
        "def opposite(number):\n",
        "    # your solution here\n",
        "    return -number"
      ],
      "metadata": {
        "id": "euGEN3Y3NpE1"
      },
      "execution_count": null,
      "outputs": []
    },
    {
      "cell_type": "code",
      "source": [
        "def to_jaden_case(string):\n",
        "    # ...\n",
        "    return \" \".join(x.capitalize() for x in string.split(\" \"))"
      ],
      "metadata": {
        "id": "h1QzcTz8OWrb"
      },
      "execution_count": null,
      "outputs": []
    },
    {
      "cell_type": "code",
      "source": [
        "def string_to_number(s):\n",
        "    return int(s)"
      ],
      "metadata": {
        "id": "Zc1UvQKUQX_Y"
      },
      "execution_count": null,
      "outputs": []
    },
    {
      "cell_type": "code",
      "source": [
        "def string_to_number(s):\n",
        "    # ... your code here\n",
        "    return int(s)\n",
        "    "
      ],
      "metadata": {
        "id": "-wjnrPNJSuSX"
      },
      "execution_count": null,
      "outputs": []
    },
    {
      "cell_type": "code",
      "source": [
        "def digitize(n):\n",
        "    return [int(x) for x in str(n)][::-1]"
      ],
      "metadata": {
        "id": "uG2l-OvSRVfr"
      },
      "execution_count": null,
      "outputs": []
    },
    {
      "cell_type": "code",
      "source": [
        "def friend(x):\n",
        "    #Code\n",
        "    return [i for i in x if len(i) == 4]"
      ],
      "metadata": {
        "id": "yiA8t_N4Ru8t"
      },
      "execution_count": null,
      "outputs": []
    },
    {
      "cell_type": "code",
      "source": [
        "def get_sum(a,b):\n",
        "    #good luck!\n",
        "    if b > a:\n",
        "        c = b + 1\n",
        "        x = a\n",
        "    else:\n",
        "        c = a + 1\n",
        "        x = b\n",
        "    return a if a==b else sum(range(x,c))"
      ],
      "metadata": {
        "id": "ytLC0biNTepV"
      },
      "execution_count": null,
      "outputs": []
    },
    {
      "cell_type": "code",
      "source": [
        "def bool_to_word(bool):\n",
        "    return \"Yes\" if bool else \"No\""
      ],
      "metadata": {
        "id": "lOqBxnUUVsrT"
      },
      "execution_count": null,
      "outputs": []
    },
    {
      "cell_type": "code",
      "source": [
        "def get_count(sentence):\n",
        "    vowels = 'aeiou'\n",
        "    return len([x for x in sentence if x in vowels])"
      ],
      "metadata": {
        "id": "ip6mdtteZStR"
      },
      "execution_count": null,
      "outputs": []
    },
    {
      "cell_type": "code",
      "source": [
        "def find_smallest_int(arr):\n",
        "    # Code here\n",
        "    return min(arr)"
      ],
      "metadata": {
        "id": "ZApsCKLCaV3J"
      },
      "execution_count": null,
      "outputs": []
    },
    {
      "cell_type": "code",
      "source": [
        "def longest(a1, a2):\n",
        "    # your code\n",
        "    different = list(set(a1 + a2))\n",
        "    different.sort(reverse=False)\n",
        "    return \"\".join(different)"
      ],
      "metadata": {
        "id": "HDL3goKjkFtV"
      },
      "execution_count": null,
      "outputs": []
    },
    {
      "cell_type": "code",
      "source": [
        "def find_needle(haystack):\n",
        "    # your code here\n",
        "    return \"found the needle at position {}\".format(sum([x for x,c in enumerate(haystack) if c == 'needle']))"
      ],
      "metadata": {
        "id": "0NwsUx7JlDwo"
      },
      "execution_count": null,
      "outputs": []
    },
    {
      "cell_type": "code",
      "source": [
        "x = [1,2,32,44,5,123,4213,12,1]\n",
        "x.index(1)"
      ],
      "metadata": {
        "colab": {
          "base_uri": "https://localhost:8080/"
        },
        "id": "OuSzii7Blhas",
        "outputId": "2f9cfc3d-af61-424a-f68e-5abedc66ca0a"
      },
      "execution_count": null,
      "outputs": [
        {
          "output_type": "execute_result",
          "data": {
            "text/plain": [
              "0"
            ]
          },
          "metadata": {},
          "execution_count": 102
        }
      ]
    },
    {
      "cell_type": "code",
      "source": [
        "def basic_op(operator, value1, value2):\n",
        "    #your code here\n",
        "  op = {'+': lambda x, y: x + y,\n",
        "        '-': lambda x, y: x - y,\n",
        "        '*': lambda x, y: x * y,\n",
        "        '/': lambda x, y: x / y\n",
        "        }\n",
        "    \n",
        "  return op[operator](value1,value2)"
      ],
      "metadata": {
        "id": "HFjEk1oPpXfc"
      },
      "execution_count": null,
      "outputs": []
    },
    {
      "cell_type": "code",
      "source": [
        "def repeat_str(repeat, string):\n",
        "    return string*repeat"
      ],
      "metadata": {
        "id": "tBA-ponvqs1Y"
      },
      "execution_count": null,
      "outputs": []
    },
    {
      "cell_type": "code",
      "source": [
        "def invert(lst):\n",
        "    return [-x for x in lst]"
      ],
      "metadata": {
        "id": "bsjEgZ5CtDWw"
      },
      "execution_count": null,
      "outputs": []
    },
    {
      "cell_type": "code",
      "source": [
        "def duplicate_count(text):\n",
        "    # Your code goes here\n",
        "    repetidos=[]\n",
        "    c=0\n",
        "    for x in text.lower():\n",
        "        if x not in repetidos:\n",
        "            repetidos.append(x)\n",
        "        else:\n",
        "            repetidos.append(x)\n",
        "            \n",
        "            if repetidos.count(x) > 1 and repetidos.count(x) <= 2:\n",
        "                c+=1\n",
        "            \n",
        "    return c"
      ],
      "metadata": {
        "id": "3gHHYpLNtWwh"
      },
      "execution_count": null,
      "outputs": []
    },
    {
      "cell_type": "code",
      "source": [
        "def delete_nth(order,max_e):\n",
        "    # code here\n",
        "    result = []\n",
        "    for x in order:\n",
        "        if result.count(x) < max_e:\n",
        "            result.append(x)\n",
        "    return result"
      ],
      "metadata": {
        "id": "KGL5mPcS0Nys"
      },
      "execution_count": null,
      "outputs": []
    },
    {
      "cell_type": "code",
      "source": [
        "def check(seq, elem):\n",
        "    return elem in seq"
      ],
      "metadata": {
        "id": "yARVPyDg99om"
      },
      "execution_count": null,
      "outputs": []
    },
    {
      "cell_type": "code",
      "source": [
        "def find_short(s):\n",
        "    # your code here\n",
        "    return min([len(x) for x in s.split(\" \")])"
      ],
      "metadata": {
        "id": "l78mmgtoaEK1"
      },
      "execution_count": null,
      "outputs": []
    },
    {
      "cell_type": "code",
      "source": [
        "def sum_array(arr):\n",
        "    #your code here\n",
        "    if arr == None:\n",
        "        result = 0\n",
        "    elif len(arr) < 2:\n",
        "        result = 0        \n",
        "    else:\n",
        "        result = sum(arr) - min(arr) - max(arr)\n",
        "        \n",
        "    return result"
      ],
      "metadata": {
        "id": "oaBGKQ8odFpC"
      },
      "execution_count": null,
      "outputs": []
    },
    {
      "cell_type": "code",
      "source": [
        "def count_positives_sum_negatives(arr):\n",
        "    c=0\n",
        "    suma=0\n",
        "    for x in arr:\n",
        "        if x > 0:\n",
        "            c+=1\n",
        "        elif x <= 0:\n",
        "            suma += x                  \n",
        "    return [c,suma] if len(arr) != 0 else []"
      ],
      "metadata": {
        "id": "mliLx9Jjjdye"
      },
      "execution_count": null,
      "outputs": []
    },
    {
      "cell_type": "code",
      "source": [
        "def find_uniq(arr):\n",
        "    # your code here\n",
        "    return [x for x in arr if arr.count(x) == 1][0]"
      ],
      "metadata": {
        "colab": {
          "base_uri": "https://localhost:8080/"
        },
        "id": "ZK3Smiabje3A",
        "outputId": "45b83b24-4339-479d-a702-c877a1a81363"
      },
      "execution_count": null,
      "outputs": [
        {
          "output_type": "execute_result",
          "data": {
            "text/plain": [
              "-65"
            ]
          },
          "metadata": {},
          "execution_count": 34
        }
      ]
    },
    {
      "cell_type": "code",
      "source": [
        "def find_uniq(arr):\n",
        "    # your code here\n",
        "    #return [x for x in arr if arr.count(x) == 1][0]  #Take too much time\n",
        "    aca = []\n",
        "    n= []\n",
        "    for x in arr:\n",
        "        if x not in aca:\n",
        "            c = arr.count(x)\n",
        "            aca.append(x)\n",
        "            n.append([x,c])\n",
        "    for x,c in n:\n",
        "        if c == 1:\n",
        "            solution = x\n",
        "    return solution"
      ],
      "metadata": {
        "id": "g-bts03tl355"
      },
      "execution_count": null,
      "outputs": []
    },
    {
      "cell_type": "code",
      "source": [
        "def odd_or_even(arr):\n",
        "    return \"even\" if sum(arr) % 2 == 0 else \"odd\""
      ],
      "metadata": {
        "id": "1U7kb_Eml45P"
      },
      "execution_count": null,
      "outputs": []
    },
    {
      "cell_type": "code",
      "source": [
        "def hero(bullets, dragons):\n",
        "    try:\n",
        "        solution = bullets / dragons >= 2\n",
        "    except ZeroDivisionError:\n",
        "        return True\n",
        "    return solution"
      ],
      "metadata": {
        "id": "8L0QGAEJqlTZ"
      },
      "execution_count": null,
      "outputs": []
    },
    {
      "cell_type": "code",
      "source": [
        "def bouncing_ball(h, bounce, window):\n",
        "    # your code\n",
        "    c= 0\n",
        "\n",
        "    if h > 0 and bounce > 0 and bounce < 1 and window < h:\n",
        "        #valor = h / bounce\n",
        "        while h > window:\n",
        "            c+=2\n",
        "            h *= bounce\n",
        "            \n",
        "    else:\n",
        "        return -1\n",
        "    return c-1"
      ],
      "metadata": {
        "id": "gLzfUcnIG-7t"
      },
      "execution_count": null,
      "outputs": []
    },
    {
      "cell_type": "code",
      "source": [
        "def xo(s):\n",
        "    return s.lower().count('x') == s.lower().count('o')"
      ],
      "metadata": {
        "id": "dJN8g2GYHUXn"
      },
      "execution_count": null,
      "outputs": []
    },
    {
      "cell_type": "code",
      "source": [
        "def number(bus_stops):\n",
        "    # Good Luck!\n",
        "    suben=0\n",
        "    bajan=0\n",
        "    result = [x for i in bus_stops for x in i]\n",
        "    for x,i in enumerate(result):\n",
        "        if x%2== 0:\n",
        "            suben +=i\n",
        "        else:\n",
        "            bajan +=i\n",
        "    return suben-bajan"
      ],
      "metadata": {
        "id": "2lsJGuPaIT8f"
      },
      "execution_count": null,
      "outputs": []
    },
    {
      "cell_type": "code",
      "source": [
        "def litres(time):\n",
        "    return time//2"
      ],
      "metadata": {
        "id": "7Q_xuCtdKsWo"
      },
      "execution_count": null,
      "outputs": []
    },
    {
      "cell_type": "code",
      "source": [
        "def square_sum(numbers):\n",
        "    #your code here\n",
        "    return sum(x**2 for x in numbers)"
      ],
      "metadata": {
        "id": "VPtspiVBKuu5"
      },
      "execution_count": null,
      "outputs": []
    },
    {
      "cell_type": "code",
      "source": [
        "def sum_two_smallest_numbers(numbers):\n",
        "    #your code here\n",
        "    return sum(sorted([x for x in numbers if x>0])[0:2])"
      ],
      "metadata": {
        "id": "ULKBoef2XRVC"
      },
      "execution_count": null,
      "outputs": []
    },
    {
      "cell_type": "code",
      "source": [
        "def printer_error(s):\n",
        "    # your code\n",
        "    bad =\"nopqrstuvwxyz\"\n",
        "    no = sum([1 for x in s.lower() if x in bad])\n",
        "    return \"{}/{}\".format(no,len(s))"
      ],
      "metadata": {
        "id": "rEucbcJIYLNk"
      },
      "execution_count": null,
      "outputs": []
    },
    {
      "cell_type": "code",
      "source": [
        "def zero_fuel(distance_to_pump, mpg, fuel_left):\n",
        "    #Happy Coding! ;)\n",
        "    return distance_to_pump <= mpg*fuel_left"
      ],
      "metadata": {
        "id": "pudmQsAKYM-d"
      },
      "execution_count": null,
      "outputs": []
    },
    {
      "cell_type": "code",
      "source": [
        "def validate_pin(pin):\n",
        "    #return true or false\n",
        "    return (len(pin) == 4 or len(pin) == 6) and pin.isdigit()"
      ],
      "metadata": {
        "id": "-cLRVwF8e73E"
      },
      "execution_count": null,
      "outputs": []
    },
    {
      "cell_type": "code",
      "source": [
        "def find_next_square(sq):\n",
        "    # Return the next square if sq is a square, -1 otherwise\n",
        "    import math\n",
        "    return (((sq)**(1/2)) + 1)**2 if math.sqrt(sq).is_integer() else -1"
      ],
      "metadata": {
        "id": "2V-YJL5rhseJ"
      },
      "execution_count": null,
      "outputs": []
    },
    {
      "cell_type": "code",
      "source": [
        "def get_middle(s):\n",
        "    #your code here\n",
        "    mid = int(len(s)/2)\n",
        "    if len(s)%2 == 0:\n",
        "        result = s[mid-1]+ s[mid]\n",
        "    else:\n",
        "        result = s[mid]\n",
        "    return result"
      ],
      "metadata": {
        "id": "G3sxUuX0h5l2"
      },
      "execution_count": null,
      "outputs": []
    },
    {
      "cell_type": "code",
      "source": [
        "def alphabet_position(text):\n",
        "    abecedario = [x for x in \"abcdefghijklmnopqrstuvwxyz\"]\n",
        "    numeros = [x for x in range(1,len(abecedario))]\n",
        "    dictionary = {}\n",
        "    for x in range(1,27):\n",
        "        dictionary[abecedario[x-1]] = x\n",
        "    \n",
        "    tokenks = [x for x in text.lower() if x in abecedario]\n",
        "        \n",
        "    return \" \".join([str(dictionary[x]) for x in tokenks])"
      ],
      "metadata": {
        "id": "uWi-FhvGjZIP"
      },
      "execution_count": null,
      "outputs": []
    },
    {
      "cell_type": "code",
      "source": [
        "def accum(s):\n",
        "    # your code\n",
        "    return \"-\".join(x.capitalize() for x in [x*(i+1) for i,x in enumerate(s)])"
      ],
      "metadata": {
        "id": "PA7uLib-r30K"
      },
      "execution_count": null,
      "outputs": []
    },
    {
      "cell_type": "code",
      "source": [
        "def simple_multiplication(number) :\n",
        "    # Your code goes here\n",
        "    return number * 8 if number%2 == 0 else number*9"
      ],
      "metadata": {
        "id": "0I5v4QTq_UMC"
      },
      "execution_count": null,
      "outputs": []
    },
    {
      "cell_type": "code",
      "source": [
        "def rot13(message):\n",
        "    #alphab\n",
        "    abecedario = [x for x in \"abcdefghijklmnopqrstuvwxyzABCDEFGHIJKLMNOPQRSTUVWXYZ\"]\n",
        "    numeros = [x for x in range(1,len(abecedario))]\n",
        "    \n",
        "    #coding dict\n",
        "    abc1= {}\n",
        "    abc2 ={}\n",
        "    for x in range(1,53):\n",
        "        if x < 27:\n",
        "            abc1[abecedario[x-1]] = x\n",
        "        else:\n",
        "            abc2[abecedario[x-1]] = x\n",
        "    \n",
        "    #decoding dict     \n",
        "    cba={}    \n",
        "    for x,i in enumerate(abecedario):\n",
        "        cba[x+1] = i\n",
        "    \n",
        "    encoding = []\n",
        "\n",
        "    for i in [x for x in message]:\n",
        "        if i.isalpha():\n",
        "            if i.isupper():\n",
        "                encoding.append(abc2[i])\n",
        "            else:\n",
        "                encoding.append(abc1[i])\n",
        "        else:\n",
        "            encoding.append(i)\n",
        "    \n",
        "    new_value = []\n",
        "    for x in encoding:\n",
        "        if type(x) == int:\n",
        "            if x <= 26:\n",
        "                if x+13 > 26:\n",
        "                    new_value.append(x+13 - 26)\n",
        "                else:\n",
        "                    new_value.append(x+13)\n",
        "            elif x >= 27:\n",
        "                if x+13 > 52:\n",
        "                    new_value.append(x+13 - 26)\n",
        "                else:\n",
        "                    new_value.append(x+13)\n",
        "                    \n",
        "        elif x == \" \":\n",
        "            new_value.append(\" \")\n",
        "        else:\n",
        "            new_value.append(x)\n",
        "        \n",
        "    return \"\".join([str(cba[x]) if x in cba else x for x in new_value])"
      ],
      "metadata": {
        "id": "8TW81kHjLLCV"
      },
      "execution_count": 54,
      "outputs": []
    },
    {
      "cell_type": "code",
      "source": [
        "def past(h, m, s):\n",
        "    # Good Luck!\n",
        "    return h*3600000 + m*60000 + s*1000"
      ],
      "metadata": {
        "id": "ObPAuuu7jXKv"
      },
      "execution_count": 98,
      "outputs": []
    },
    {
      "cell_type": "code",
      "source": [
        "def string_to_array(s):\n",
        "    # your code here\n",
        "    return s.split() if len(s) > 1 else ['']"
      ],
      "metadata": {
        "id": "ag1GWz8tsrNa"
      },
      "execution_count": 99,
      "outputs": []
    },
    {
      "cell_type": "code",
      "source": [
        ""
      ],
      "metadata": {
        "id": "81THNwkYs8ja"
      },
      "execution_count": null,
      "outputs": []
    }
  ]
}