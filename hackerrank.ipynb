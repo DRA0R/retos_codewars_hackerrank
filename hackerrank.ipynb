{
  "nbformat": 4,
  "nbformat_minor": 0,
  "metadata": {
    "colab": {
      "name": "hackerrank.ipynb",
      "provenance": [],
      "authorship_tag": "ABX9TyMk97r3NMJGzwZ1cX6nPlix",
      "include_colab_link": true
    },
    "kernelspec": {
      "name": "python3",
      "display_name": "Python 3"
    },
    "language_info": {
      "name": "python"
    }
  },
  "cells": [
    {
      "cell_type": "markdown",
      "metadata": {
        "id": "view-in-github",
        "colab_type": "text"
      },
      "source": [
        "<a href=\"https://colab.research.google.com/github/DRA0R/retos_codewars/blob/main/hackerrank.ipynb\" target=\"_parent\"><img src=\"https://colab.research.google.com/assets/colab-badge.svg\" alt=\"Open In Colab\"/></a>"
      ]
    },
    {
      "cell_type": "code",
      "execution_count": 1,
      "metadata": {
        "id": "YM4IORerf5Ab"
      },
      "outputs": [],
      "source": [
        "def fizzBuzz(n):\n",
        "    # Write your code here\n",
        "    result = []\n",
        "    for x in range(1,n):\n",
        "        if x % 3 == 0 and x % 5 == 0:\n",
        "            result.append('FizzBuzz')\n",
        "        elif x % 3 == 0:\n",
        "            result.append('Fizz')\n",
        "        elif x % 5 == 0:\n",
        "            result.append('Buzz')\n",
        "        else:\n",
        "            result.append(x)\n",
        "    return result"
      ]
    },
    {
      "cell_type": "code",
      "source": [
        "fizzBuzz(15)"
      ],
      "metadata": {
        "colab": {
          "base_uri": "https://localhost:8080/"
        },
        "id": "VRyNo1Aaf7x8",
        "outputId": "69d0aa18-2987-4035-fceb-26238dcdc954"
      },
      "execution_count": 2,
      "outputs": [
        {
          "output_type": "execute_result",
          "data": {
            "text/plain": [
              "[1, 2, 'Fizz', 4, 'Buzz', 'Fizz', 7, 8, 'Fizz', 'Buzz', 11, 'Fizz', 13, 14]"
            ]
          },
          "metadata": {},
          "execution_count": 2
        }
      ]
    },
    {
      "cell_type": "code",
      "source": [
        "class Car:\n",
        "    def __init__(self,max_speed, speed_unit):\n",
        "        self.max_speed = max_speed\n",
        "        self.speed_unit = speed_unit\n",
        "        \n",
        "    def __str__(self):\n",
        "        return \"Car with the maximum speed of {} {}\".format(self.max_speed,self.speed_unit)\n",
        "    \n",
        "\n",
        "class Boat:\n",
        "    def __init__(self, max_speed_boat):\n",
        "        self.max_speed_boat = max_speed_boat\n",
        "        \n",
        "    def __str__(self):\n",
        "        return \"Boat with the maximum speed of \" + self.max_speed_boat + \"knots\""
      ],
      "metadata": {
        "id": "fdNTB0Nsf9f8"
      },
      "execution_count": 9,
      "outputs": []
    },
    {
      "cell_type": "code",
      "source": [
        "car1 = Car(155,\"km/h\")"
      ],
      "metadata": {
        "id": "JPC5DHfDnv8h"
      },
      "execution_count": 10,
      "outputs": []
    },
    {
      "cell_type": "code",
      "source": [
        "print(car1)"
      ],
      "metadata": {
        "colab": {
          "base_uri": "https://localhost:8080/"
        },
        "id": "YeD-EQK5oECR",
        "outputId": "1ff534a8-3963-4a84-f515-27efa34576ef"
      },
      "execution_count": 14,
      "outputs": [
        {
          "output_type": "stream",
          "name": "stdout",
          "text": [
            "Car with the maximum speed of 155 km/h\n"
          ]
        }
      ]
    },
    {
      "cell_type": "code",
      "source": [
        ""
      ],
      "metadata": {
        "id": "nnmD0yySoGiy"
      },
      "execution_count": null,
      "outputs": []
    }
  ]
}